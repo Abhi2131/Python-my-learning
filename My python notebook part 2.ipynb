{
 "cells": [
  {
   "cell_type": "markdown",
   "metadata": {},
   "source": [
    " #                                😊PYTHON part 2😊"
   ]
  },
  {
   "cell_type": "markdown",
   "metadata": {},
   "source": [
    "## FUNCTIONS\n",
    "        \n",
    "  ###### 1)BASICS:"
   ]
  },
  {
   "cell_type": "markdown",
   "metadata": {},
   "source": [
    "#### 1) function / named function \n",
    "  - function defination syntax:\n",
    "                def function_name (parameters):                                                \n",
    "                    < function body >                                             \n",
    "                     return <operation>\n",
    "    \n",
    "  - function calling syntax:\n",
    "                 function_name(arguments)\n",
    "\n",
    " note: parameters and return both are optional"
   ]
  },
  {
   "cell_type": "code",
   "execution_count": 1,
   "metadata": {},
   "outputs": [],
   "source": [
    " ## general function defination\n",
    "def greet():\n",
    "    '''This function prints greet message!'''   # docstring (description write to understand new user)\n",
    "    print('Hello Everyone!')   "
   ]
  },
  {
   "cell_type": "code",
   "execution_count": 3,
   "metadata": {},
   "outputs": [
    {
     "name": "stdout",
     "output_type": "stream",
     "text": [
      "Hello Everyone!\n",
      "Hello Everyone!\n",
      "Hello Everyone!\n",
      "Hello Everyone!\n"
     ]
    }
   ],
   "source": [
    "#function call\n",
    "greet()\n",
    "greet()\n",
    "greet()\n",
    "greet()"
   ]
  },
  {
   "cell_type": "markdown",
   "metadata": {},
   "source": [
    "1 ) function without argument"
   ]
  },
  {
   "cell_type": "code",
   "execution_count": 1,
   "metadata": {},
   "outputs": [
    {
     "name": "stdout",
     "output_type": "stream",
     "text": [
      "5\n"
     ]
    }
   ],
   "source": [
    "def sum():\n",
    "    print(2+3)\n",
    "    \n",
    "sum()"
   ]
  },
  {
   "cell_type": "markdown",
   "metadata": {},
   "source": [
    "2 ) function with single argument"
   ]
  },
  {
   "cell_type": "code",
   "execution_count": 6,
   "metadata": {},
   "outputs": [
    {
     "name": "stdout",
     "output_type": "stream",
     "text": [
      "Hello abhi!\n",
      "Hello abhi!\n"
     ]
    }
   ],
   "source": [
    "## function defination with single agrument(argument:that comes in simple paranthesis)\n",
    "def greet(name):\n",
    "    '''This function prints greet message!'''\n",
    "    print('Hello '+ name + '!')  \n",
    "\n",
    "greet('abhi')\n",
    "greet(name='abhi')"
   ]
  },
  {
   "cell_type": "markdown",
   "metadata": {},
   "source": [
    "3) function with multiple arguments"
   ]
  },
  {
   "cell_type": "code",
   "execution_count": 11,
   "metadata": {},
   "outputs": [
    {
     "name": "stdout",
     "output_type": "stream",
     "text": [
      "Enter first integer: 6\n",
      "Enter second integer: 3\n",
      "6 + 3 = 9\n",
      "3 + 6 = 9\n",
      "6 + 3 = 9\n",
      "6 + 3 = 9\n"
     ]
    }
   ],
   "source": [
    "### multiple agruments \n",
    "# WAF to take two agruments and display sum of the two: def addition(num1,num2):\n",
    "## function defination\n",
    "def addition(num1,num2):\n",
    "#     <logic>\n",
    "    print(\"{} + {} = {}\".format(num1,num2,num1+num2))\n",
    "\n",
    "n1 = int(input('Enter first integer: '))    \n",
    "n2 = int(input('Enter second integer: '))  \n",
    "# call function: addition\n",
    "addition(n1,n2)\n",
    "addition(n2,n1)\n",
    "addition(num1 = n1, num2 = n2)\n",
    "addition(num2 = n2, num1 = n1)"
   ]
  },
  {
   "cell_type": "code",
   "execution_count": 15,
   "metadata": {},
   "outputs": [
    {
     "name": "stdout",
     "output_type": "stream",
     "text": [
      "Enter first integer: 5\n",
      "Enter second integer: 3\n",
      "Sum <= 10\n"
     ]
    }
   ],
   "source": [
    "# WAF to take two agruments and return True if sum of the two above 10 else return False. \n",
    "# Based on return value from the function print suitable messages.\n",
    "# def addition(num1,num2):\n",
    "\n",
    "def addition(num1,num2):\n",
    "    if ((num1+num2)>10):\n",
    "        return(True)\n",
    "    else:\n",
    "         return(False)\n",
    "    \n",
    "n1 = int(input('Enter first integer: '))    \n",
    "n2 = int(input('Enter second integer: '))  \n",
    "\n",
    "# call function: addition()\n",
    "if addition(n2,n1):\n",
    "    print('Sum > 10')\n",
    "else:\n",
    "    print('Sum <= 10')\n"
   ]
  },
  {
   "cell_type": "markdown",
   "metadata": {},
   "source": [
    "### different types of argument\n",
    "\n",
    "#### 1. psotional arguments:\n",
    "      - the order is important\n",
    "      - number of args should match the number of paramters\n"
   ]
  },
  {
   "cell_type": "code",
   "execution_count": 3,
   "metadata": {},
   "outputs": [
    {
     "name": "stdout",
     "output_type": "stream",
     "text": [
      "abhi\n",
      "24\n",
      "15k\n",
      "abhi\n",
      "24\n",
      "15k\n"
     ]
    }
   ],
   "source": [
    "def emp_data( name,age,sal):\n",
    "    \"\"\"hello all\"\"\"  # description === docstring\n",
    "    print(name)\n",
    "    print(age)\n",
    "    print(sal)\n",
    "    \n",
    "    \n",
    "#order is imp    \n",
    "emp_data(\"abhi\",24,'15k')\n",
    "\n",
    "\n",
    "#as 3 parameter are there so argu also be 3 here, it should not less or more arg\n",
    "\n",
    "\n",
    "emp_data(\"abhi\",24,'15k')   # correct \n",
    "#emp_data(\"abhi\",24,) #wrong\n",
    "#emp_data(\"abhi\",24,'15k','45k') #wrong"
   ]
  },
  {
   "cell_type": "markdown",
   "metadata": {},
   "source": [
    "#### 2.default Argument:\n",
    "   - pre-assigned values for parameter so even if no of argument parameter not matches due to assigned defualt values erlier it wont show any erroe unlike positional argument type\n",
    "\n",
    "   - *imp: in positional and defualt argu, positional argu has priority \n"
   ]
  },
  {
   "cell_type": "code",
   "execution_count": 2,
   "metadata": {},
   "outputs": [
    {
     "name": "stdout",
     "output_type": "stream",
     "text": [
      "abhi\n",
      "28\n",
      "76k\n",
      "0\n"
     ]
    }
   ],
   "source": [
    "def emp_dat(name,age,sal,id = 0):\n",
    "    print(name)\n",
    "    print(age)\n",
    "    print(sal)\n",
    "    print(id)\n",
    "emp_dat('abhi',28,'76k')   \n",
    "\n",
    "# here in 'id' even if nothing given there while calling func.\n",
    "#it will reflect 0 in result as its a deafualt argument."
   ]
  },
  {
   "cell_type": "code",
   "execution_count": 14,
   "metadata": {},
   "outputs": [
    {
     "name": "stdout",
     "output_type": "stream",
     "text": [
      "Enter first integer: 5\n",
      "Enter second integer: 6\n",
      "5 + 6 = 11\n",
      "0 + 0 = 0\n"
     ]
    }
   ],
   "source": [
    "###with defualt value as '0'\n",
    "\n",
    "# WAF to take two agruments and display sum of the two: def addition(num1,num2):\n",
    "## function defination\n",
    "def addition(num1=0,num2=0):\n",
    "    print(\"{} + {} = {}\".format(num1,num2,num1+num2))\n",
    "\n",
    "n1 = int(input('Enter first integer: '))    \n",
    "n2 = int(input('Enter second integer: '))  \n",
    "# call function: addition\n",
    "addition(n1,n2)\n",
    "\n",
    "addition()              #no argument so takes defualt mentioned values"
   ]
  },
  {
   "cell_type": "code",
   "execution_count": 7,
   "metadata": {},
   "outputs": [
    {
     "name": "stdout",
     "output_type": "stream",
     "text": [
      "Hello You!\n",
      "Hello Jack!\n",
      "Hello Abhi!\n"
     ]
    }
   ],
   "source": [
    "def greet(name='You'): # name is assigned with default values\n",
    "    '''This function prints greet message!'''\n",
    "    print('Hello '+ name + '!') \n",
    "    \n",
    "greet()           #if user not inputed anything'you'will be displyed as it considered as defualt name\n",
    "greet('Jack')     #however priority is always to user inputed (i.e.positional arg) over defualt one\n",
    "greet(name = 'Abhi')"
   ]
  },
  {
   "cell_type": "markdown",
   "metadata": {},
   "source": [
    "####  3. Variable length / none-keyworded agruments:\n",
    "\n",
    "   - variable length / non keyworded means having variable no of parameters(more than 2 that user dont really know) which passes only values given as arguments which is separated by commas(not  given any keys or name to those values == keyworded)\n",
    "   - useful when n number (more than 2) of arguments want to use\n",
    "   - use '*' for none keyworded arguments\n",
    "   - *args == takes variable length args and stores in a tuple"
   ]
  },
  {
   "cell_type": "code",
   "execution_count": 17,
   "metadata": {},
   "outputs": [
    {
     "name": "stdout",
     "output_type": "stream",
     "text": [
      "2\n",
      "17\n",
      "13\n",
      "48\n",
      "9\n"
     ]
    }
   ],
   "source": [
    "## none-keyworded agruments\n",
    "\n",
    "def addition(* args):\n",
    "    # agrs is an iterable\n",
    "    print(sum(args))\n",
    "\n",
    "    \n",
    "addition(2)\n",
    "addition(2,5,6,4)\n",
    "addition(1,8,4)\n",
    "addition(8,4,6,5,1,23,1)\n",
    "addition(2,7)"
   ]
  },
  {
   "cell_type": "code",
   "execution_count": 18,
   "metadata": {},
   "outputs": [
    {
     "name": "stdout",
     "output_type": "stream",
     "text": [
      "('10k', 24, 'abhi', 564565)\n"
     ]
    }
   ],
   "source": [
    "# variable length argumrnts / non keyworded\n",
    "\n",
    "def emp_data(*args):\n",
    "    print(args)\n",
    "    \n",
    "    \n",
    "emp_data('10k',24,'abhi',564565)   # result stored in tuple"
   ]
  },
  {
   "cell_type": "code",
   "execution_count": 19,
   "metadata": {},
   "outputs": [
    {
     "name": "stdout",
     "output_type": "stream",
     "text": [
      "7\n"
     ]
    }
   ],
   "source": [
    "#vla type 1\n",
    "def sum (*args):\n",
    "    print(args[2]+args[3])\n",
    "    \n",
    "sum(1,2,3,4,5,6,)"
   ]
  },
  {
   "cell_type": "markdown",
   "metadata": {},
   "source": [
    "#### 4. keyword argumet :\n",
    "   - order doesnt matter as while calling we are using parameters name as it is in calling arguments too, so even if they are not with same order of parameter and argumnets it will work very accurately\n",
    "   - keyworded agruments:\n",
    "   - comes with name(or keys) and values\n",
    "   - use '**' for  keyworded arguments\n"
   ]
  },
  {
   "cell_type": "code",
   "execution_count": 21,
   "metadata": {},
   "outputs": [
    {
     "name": "stdout",
     "output_type": "stream",
     "text": [
      "a 1\n",
      "b 2\n",
      "c 3\n",
      "d 4\n",
      "None\n",
      "x 1\n",
      "y 2\n",
      "z 3\n",
      "a 4\n"
     ]
    }
   ],
   "source": [
    "## keyworded agruments\n",
    "\n",
    "def display(** agrs):            # agrs = {'a':1,'b':2,'c':3,'d':4}\n",
    "    for k,v in agrs.items():     # k for key and v for value\n",
    "                                 # here .item() inbuilt function is used to differentiate key and val\n",
    "        print(k,v) \n",
    "\n",
    "print(display(a = 1, b = 2, c = 3, d = 4))\n",
    "display(x = 1, y = 2, z = 3, a = 4)"
   ]
  },
  {
   "cell_type": "code",
   "execution_count": 22,
   "metadata": {},
   "outputs": [
    {
     "name": "stdout",
     "output_type": "stream",
     "text": [
      "24\n",
      "720\n",
      "120\n",
      "1\n",
      "Error:Invalid input!\n",
      "1\n"
     ]
    }
   ],
   "source": [
    "# WAF to find factorial of a number.\n",
    "\n",
    "def factorial(n):\n",
    "    '''n is an integer.'''\n",
    "    if n < 0 :\n",
    "#         print('Error:Invalid input!')\n",
    "        return 'Error:Invalid input!'\n",
    "    elif ((n==0) | (n==1)):\n",
    "        return 1\n",
    "    else:\n",
    "        fac = 1\n",
    "        c = 2 # counter variable\n",
    "        while c <= n:\n",
    "            fac = fac * c\n",
    "            c = c + 1\n",
    "        return fac\n",
    "    \n",
    "print(factorial(4))   \n",
    "print(factorial(6))  \n",
    "print(factorial(5))  \n",
    "print(factorial(0))\n",
    "print(factorial(-3))\n",
    "print(factorial(1))  "
   ]
  },
  {
   "cell_type": "markdown",
   "metadata": {},
   "source": [
    "#### return statement in function \n",
    "- it is optional\n",
    "- if not used default value will  be none\n",
    "- the lines after return function never executes"
   ]
  },
  {
   "cell_type": "code",
   "execution_count": 8,
   "metadata": {},
   "outputs": [
    {
     "name": "stdout",
     "output_type": "stream",
     "text": [
      "9\n"
     ]
    }
   ],
   "source": [
    "# function with print() >> after run gives output\n",
    "\n",
    "def add(x,y):           #x,y is arguments\n",
    "    c=x+y               # operation in function body\n",
    "    print(c)            # print always displays result \n",
    "    \n",
    "a = add(4,5)                #function called here"
   ]
  },
  {
   "cell_type": "code",
   "execution_count": 35,
   "metadata": {},
   "outputs": [],
   "source": [
    "# function with return >> after run will not gives output\n",
    "\n",
    "def add(x,y):    #x,y is arguments\n",
    "    c=x+y        # operation in function body\n",
    "    return c     # return will just put its result directly into defined function i.e add(x,y)here\n",
    "                 #and will not displays   \n",
    "    \n",
    "a =add(4,5)      #function called here and stored result in a"
   ]
  },
  {
   "cell_type": "code",
   "execution_count": 8,
   "metadata": {},
   "outputs": [
    {
     "name": "stdout",
     "output_type": "stream",
     "text": [
      "5\n"
     ]
    }
   ],
   "source": [
    "def sum (a,b):\n",
    "    c= a+b\n",
    "    return c\n",
    "#     print(c)    #this line never executes as its a line after return \n",
    "    \n",
    "print(sum(2,3))"
   ]
  },
  {
   "cell_type": "code",
   "execution_count": 9,
   "metadata": {},
   "outputs": [
    {
     "name": "stdout",
     "output_type": "stream",
     "text": [
      "enter a no:6\n",
      "1\n",
      "<class 'int'>\n"
     ]
    }
   ],
   "source": [
    "def evn_(a):\n",
    "    if a%2==0:\n",
    "        return 1             # function type id based on which vale is returning,here its 'int'\n",
    "    else:\n",
    "        return \"odd\"         # here function type/class will be str i.e based on returning value\n",
    "      \n",
    "    \n",
    "a= int(input(\"enter a no:\"))\n",
    "print(evn_(a))\n",
    "print(type(evn_(a)))"
   ]
  },
  {
   "cell_type": "code",
   "execution_count": 10,
   "metadata": {},
   "outputs": [
    {
     "name": "stdout",
     "output_type": "stream",
     "text": [
      "('abhi', 24, 23333)\n"
     ]
    }
   ],
   "source": [
    "def emp_info(name,sal,age):\n",
    "    return name,sal,age   #return caould return any no of statements as 3 here\n",
    "print (emp_info('abhi',24, 23333))"
   ]
  },
  {
   "cell_type": "code",
   "execution_count": 10,
   "metadata": {},
   "outputs": [
    {
     "name": "stdout",
     "output_type": "stream",
     "text": [
      "abhi\n",
      "24\n",
      "23333\n",
      "1233\n"
     ]
    }
   ],
   "source": [
    "def emp_info(name,sal,age):\n",
    "    return name,sal,age,1233  #return can return any no of statements 3 he\n",
    "a,b,c,d =emp_info('abhi',24, 23333)\n",
    "print(a)\n",
    "print(b)\n",
    "print(c)\n",
    "print(d)"
   ]
  },
  {
   "cell_type": "code",
   "execution_count": 10,
   "metadata": {},
   "outputs": [
    {
     "name": "stdout",
     "output_type": "stream",
     "text": [
      "9 3\n"
     ]
    }
   ],
   "source": [
    "#returning multiple result  \n",
    "\n",
    "def add_sub(x,y):\n",
    "    c=x+y\n",
    "    d=x-y\n",
    "    return c,d               #we can return as much values as we want\n",
    "\n",
    "\n",
    "a ,b = add_sub(6,3)          #basic: we also can get input  in single line with  this method\n",
    "print(a,b)                   #basic: we also display result in single line with this method"
   ]
  },
  {
   "cell_type": "markdown",
   "metadata": {},
   "source": [
    "### Recursion: calling a function itself\n",
    "- function used inside function which calls itself\n",
    "- recursion could leads to execute infinite time so stating count is a good practise"
   ]
  },
  {
   "cell_type": "code",
   "execution_count": 22,
   "metadata": {},
   "outputs": [
    {
     "name": "stdout",
     "output_type": "stream",
     "text": [
      "\n",
      "\n",
      "Recursion Example Results\n",
      "1\n",
      "3\n",
      "6\n"
     ]
    },
    {
     "data": {
      "text/plain": [
       "6"
      ]
     },
     "execution_count": 22,
     "metadata": {},
     "output_type": "execute_result"
    }
   ],
   "source": [
    "def try_rec(k):\n",
    "  if(k>0):\n",
    "    result = k+ try_rec(k-1)\n",
    "    print(result)\n",
    "  else:\n",
    "    result = 0\n",
    "  return result\n",
    "\n",
    "print(\"\\n\\nRecursion Example Results\")\n",
    "tri_recursion(3)"
   ]
  },
  {
   "cell_type": "code",
   "execution_count": 28,
   "metadata": {},
   "outputs": [
    {
     "name": "stdout",
     "output_type": "stream",
     "text": [
      "24\n",
      "720\n",
      "120\n",
      "1\n"
     ]
    }
   ],
   "source": [
    "# WAF to find factorial of a number.\n",
    "\n",
    "    \n",
    "print(factorial(6))  \n",
    "print(factorial(5))  \n",
    "print(factorial(0))    "
   ]
  },
  {
   "cell_type": "code",
   "execution_count": 29,
   "metadata": {},
   "outputs": [
    {
     "name": "stdout",
     "output_type": "stream",
     "text": [
      "Num1:5\n",
      "Num2:6\n",
      "Operator:+\n",
      "11\n"
     ]
    }
   ],
   "source": [
    "# WAF to design calculator program using function.\n",
    "\n",
    "n1 = int(input('Num1:'))\n",
    "n2 = int(input('Num2:'))\n",
    "op = input('Operator:')\n",
    "\n",
    "def add(num1, num2):\n",
    "    return num1+num2\n",
    "\n",
    "def calculator(n1,n2,op):\n",
    "    if op == '+':\n",
    "#         return n1+n2\n",
    "        return add(n1,n2)\n",
    "    elif op == '-': \n",
    "        return n1-n2\n",
    "    elif op == '*': \n",
    "        return n1*n2\n",
    "    elif op =='/' : \n",
    "        if n2 != 0: \n",
    "            return n1/n2 \n",
    "        else: \n",
    "            return \"Error: Divide by zero!\"\n",
    "    else: return \"Error:\" \n",
    "    \n",
    "print(calculator(n1,n2,op))    "
   ]
  },
  {
   "cell_type": "markdown",
   "metadata": {},
   "source": [
    "## unnamed function/ lambda function/ anonymous function  "
   ]
  },
  {
   "cell_type": "code",
   "execution_count": 1,
   "metadata": {},
   "outputs": [],
   "source": [
    "## syntax:\n",
    "# lambda arguments:<output expression>"
   ]
  },
  {
   "cell_type": "code",
   "execution_count": 2,
   "metadata": {},
   "outputs": [
    {
     "data": {
      "text/plain": [
       "9"
      ]
     },
     "execution_count": 2,
     "metadata": {},
     "output_type": "execute_result"
    }
   ],
   "source": [
    "## WAF to add two numbers.\n",
    "def add(n1,n2):\n",
    "    return n1+n2\n",
    "add(4,5)"
   ]
  },
  {
   "cell_type": "code",
   "execution_count": 3,
   "metadata": {},
   "outputs": [
    {
     "data": {
      "text/plain": [
       "9"
      ]
     },
     "execution_count": 3,
     "metadata": {},
     "output_type": "execute_result"
    }
   ],
   "source": [
    "s=lambda n1,n2:n1+n2\n",
    "s(4,5)"
   ]
  },
  {
   "cell_type": "code",
   "execution_count": 25,
   "metadata": {},
   "outputs": [
    {
     "name": "stdout",
     "output_type": "stream",
     "text": [
      "16\n"
     ]
    }
   ],
   "source": [
    "## square each numbers\n",
    "s =(lambda n:n**2)(4)   # we could pass parameter in same line aswell\n",
    "print(s)"
   ]
  },
  {
   "cell_type": "code",
   "execution_count": 11,
   "metadata": {},
   "outputs": [
    {
     "name": "stdout",
     "output_type": "stream",
     "text": [
      "5\n"
     ]
    }
   ],
   "source": [
    "a = (lambda a,b : a+b)(2,3)\n",
    "print(a)"
   ]
  },
  {
   "cell_type": "code",
   "execution_count": 15,
   "metadata": {},
   "outputs": [
    {
     "name": "stdout",
     "output_type": "stream",
     "text": [
      "enter nay number : 2\n",
      "enter nay number : 2\n",
      "enter nay number : 2\n",
      "8\n"
     ]
    }
   ],
   "source": [
    "#take user input more than two\n",
    "\n",
    "a = int(input(\"enter nay number : \"))\n",
    "b = int(input(\"enter nay number : \"))\n",
    "c = int(input(\"enter nay number : \"))\n",
    "\n",
    "print( (lambda a,b,c : a*b*c)(a,b,c))"
   ]
  },
  {
   "cell_type": "code",
   "execution_count": 29,
   "metadata": {},
   "outputs": [
    {
     "name": "stdout",
     "output_type": "stream",
     "text": [
      "even\n",
      "___or______\n",
      "odd\n"
     ]
    }
   ],
   "source": [
    "# use conidition\n",
    "# using normal method\n",
    "\n",
    "def even_odd(num):\n",
    "    if num%2==0:\n",
    "        return 'even'\n",
    "    else:\n",
    "        return 'odd'\n",
    "    \n",
    "print(even_odd(10))\n",
    "\n",
    "print('___or______')\n",
    "\n",
    "# using lambda function with condition\n",
    "a = (lambda num : 'even' if num %2 ==0 else 'odd' )(125)    # here 'True'(result to display) is written \n",
    "                                                         #left side of if\", same as list comrehenssion\n",
    "                                        #  wnenver cond comes we have to write in this format  \n",
    "print(a)"
   ]
  },
  {
   "cell_type": "markdown",
   "metadata": {},
   "source": [
    "### filter, map, reduce"
   ]
  },
  {
   "cell_type": "markdown",
   "metadata": {},
   "source": [
    "* Filter: used when filter result from given values\n",
    "        - this also could be used with reguler as well as with lambada function\n",
    "        - it returns list\n",
    "        - syntax: filter(function_name, iterables/ sequence)\n",
    "        - it always takes only one argumets/parameter"
   ]
  },
  {
   "cell_type": "code",
   "execution_count": 30,
   "metadata": {},
   "outputs": [
    {
     "data": {
      "text/plain": [
       "[2, 4, 6, 8, 10, 12, 14, 16, 18, 20]"
      ]
     },
     "execution_count": 30,
     "metadata": {},
     "output_type": "execute_result"
    }
   ],
   "source": [
    "# filter(function, iterables)>> using reguler function\n",
    "def even(x):\n",
    "    return x%2==0\n",
    "list(filter(even,range(1,21)))\n",
    "\n",
    "    "
   ]
  },
  {
   "cell_type": "code",
   "execution_count": 5,
   "metadata": {},
   "outputs": [
    {
     "data": {
      "text/plain": [
       "[2, 4, 6, 8, 10, 12, 14, 16, 18, 20]"
      ]
     },
     "execution_count": 5,
     "metadata": {},
     "output_type": "execute_result"
    }
   ],
   "source": [
    "# filter(function, iterables)>> using lambada function\n",
    "\n",
    "list(filter(lambda n:n%2==0,  range(1,21)))"
   ]
  },
  {
   "cell_type": "code",
   "execution_count": 6,
   "metadata": {},
   "outputs": [
    {
     "data": {
      "text/plain": [
       "[1, 2, 3, 4, 5, 6, 7, 8, 9, 10, 11, 12, 13, 14, 15, 16, 17, 18, 19, 20]"
      ]
     },
     "execution_count": 6,
     "metadata": {},
     "output_type": "execute_result"
    }
   ],
   "source": [
    "list(range(1,21))"
   ]
  },
  {
   "cell_type": "markdown",
   "metadata": {},
   "source": [
    "* map: used when dealing(doing operation) with all values from dataset \n",
    "        - this also could be used with reguler as well as with lambada function\n",
    "        - it returns list as result\n",
    "        - syntax: map(function, iterables)\n",
    "        - map accepts two argumnets\n",
    "\n"
   ]
  },
  {
   "cell_type": "code",
   "execution_count": 36,
   "metadata": {},
   "outputs": [
    {
     "data": {
      "text/plain": [
       "[1, 4, 9, 16, 25, 36, 49, 64, 81, 100]"
      ]
     },
     "execution_count": 36,
     "metadata": {},
     "output_type": "execute_result"
    }
   ],
   "source": [
    "## map \n",
    "\n",
    "# map(function, iterables)\n",
    "list(map(lambda n:n**2, range(1,11)))"
   ]
  },
  {
   "cell_type": "markdown",
   "metadata": {},
   "source": [
    "* reduce:\n",
    "- with this always need to to import reduce library from functools\n",
    "- it always takes two parameters\n",
    "- it returns single value as result\n",
    "- syntax: reduce(function, iterables)"
   ]
  },
  {
   "cell_type": "code",
   "execution_count": 33,
   "metadata": {},
   "outputs": [],
   "source": [
    "### reduce\n",
    "from functools import reduce"
   ]
  },
  {
   "cell_type": "code",
   "execution_count": 9,
   "metadata": {},
   "outputs": [
    {
     "data": {
      "text/plain": [
       "[1, 2, 3, 4, 5, 6, 7, 8, 9, 10]"
      ]
     },
     "execution_count": 9,
     "metadata": {},
     "output_type": "execute_result"
    }
   ],
   "source": [
    "# reduce(function, iterables)\n",
    "list(range(1,11))"
   ]
  },
  {
   "attachments": {
    "download.png": {
     "image/png": "[encoded data removed]"
    }
   },
   "cell_type": "markdown",
   "metadata": {},
   "source": [
    "-  reduce example always gives result in this fasion\n",
    "\n",
    "![download.png](attachment:download.png)"
   ]
  },
  {
   "cell_type": "code",
   "execution_count": 10,
   "metadata": {},
   "outputs": [
    {
     "data": {
      "text/plain": [
       "55"
      ]
     },
     "execution_count": 10,
     "metadata": {},
     "output_type": "execute_result"
    }
   ],
   "source": [
    "reduce(lambda x,y:x+y, range(1,11))"
   ]
  },
  {
   "cell_type": "code",
   "execution_count": 11,
   "metadata": {},
   "outputs": [
    {
     "data": {
      "text/plain": [
       "-53"
      ]
     },
     "execution_count": 11,
     "metadata": {},
     "output_type": "execute_result"
    }
   ],
   "source": [
    "reduce(lambda x,y:x-y, range(1,11))"
   ]
  },
  {
   "cell_type": "markdown",
   "metadata": {},
   "source": [
    "#### local and global varibale\n",
    "\n",
    "   - local varibale - varibale that you can use only inside a particlular fucntion\n",
    "   - global varibale - varaible that you can use in entire code"
   ]
  },
  {
   "cell_type": "code",
   "execution_count": 2,
   "metadata": {},
   "outputs": [
    {
     "name": "stdout",
     "output_type": "stream",
     "text": [
      "25\n",
      "afsaan\n"
     ]
    },
    {
     "ename": "NameError",
     "evalue": "name 'c' is not defined",
     "output_type": "error",
     "traceback": [
      "\u001b[1;31m---------------------------------------------------------------------------\u001b[0m",
      "\u001b[1;31mNameError\u001b[0m                                 Traceback (most recent call last)",
      "\u001b[1;32m<ipython-input-2-e98973f0c0f7>\u001b[0m in \u001b[0;36m<module>\u001b[1;34m\u001b[0m\n\u001b[0;32m     10\u001b[0m \u001b[1;33m\u001b[0m\u001b[0m\n\u001b[0;32m     11\u001b[0m \u001b[0madd\u001b[0m\u001b[1;33m(\u001b[0m\u001b[1;33m)\u001b[0m\u001b[1;33m\u001b[0m\u001b[1;33m\u001b[0m\u001b[0m\n\u001b[1;32m---> 12\u001b[1;33m \u001b[0mprint\u001b[0m\u001b[1;33m(\u001b[0m\u001b[0mc\u001b[0m\u001b[1;33m)\u001b[0m\u001b[1;33m\u001b[0m\u001b[1;33m\u001b[0m\u001b[0m\n\u001b[0m\u001b[0;32m     13\u001b[0m \u001b[0mprint\u001b[0m\u001b[1;33m(\u001b[0m\u001b[0mx\u001b[0m\u001b[1;33m)\u001b[0m\u001b[1;33m\u001b[0m\u001b[1;33m\u001b[0m\u001b[0m\n",
      "\u001b[1;31mNameError\u001b[0m: name 'c' is not defined"
     ]
    }
   ],
   "source": [
    "#glolbal varibale\n",
    "a = 15\n",
    "b = 10\n",
    "\n",
    "def add():\n",
    "    x = 'afsaan' #local variable\n",
    "    c = a+b  # local varibale\n",
    "    print(c)\n",
    "    print(x)\n",
    "    \n",
    "add()\n",
    "print(c)\n",
    "print(x)"
   ]
  },
  {
   "cell_type": "code",
   "execution_count": null,
   "metadata": {},
   "outputs": [],
   "source": []
  }
 ],
 "metadata": {
  "kernelspec": {
   "display_name": "Python 3",
   "language": "python",
   "name": "python3"
  },
  "language_info": {
   "codemirror_mode": {
    "name": "ipython",
    "version": 3
   },
   "file_extension": ".py",
   "mimetype": "text/x-python",
   "name": "python",
   "nbconvert_exporter": "python",
   "pygments_lexer": "ipython3",
   "version": "3.7.4"
  }
 },
 "nbformat": 4,
 "nbformat_minor": 2
}
