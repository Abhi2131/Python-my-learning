{
 "cells": [
  {
   "cell_type": "markdown",
   "metadata": {},
   "source": [
    "# 😀interview asked😀 #"
   ]
  },
  {
   "cell_type": "markdown",
   "metadata": {},
   "source": [
    "esc + P =>>to know about all shortcuts"
   ]
  },
  {
   "cell_type": "markdown",
   "metadata": {},
   "source": [
    "### Number system conversion:"
   ]
  },
  {
   "cell_type": "code",
   "execution_count": 2,
   "metadata": {},
   "outputs": [
    {
     "name": "stdout",
     "output_type": "stream",
     "text": [
      "0b10000\n",
      "0o20\n",
      "0x10\n",
      "\n",
      "\n",
      "14\n",
      "14\n",
      "14\n"
     ]
    }
   ],
   "source": [
    "#Number system conversion\n",
    " ##1)from decimal\n",
    "\n",
    "print(bin(16))\n",
    "print(oct(16))\n",
    "print(hex(16))\n",
    "print('\\n')\n",
    "\n",
    "##2)into decimal\n",
    "print(0b1110)\n",
    "print(0o16)\n",
    "print(0xe)"
   ]
  },
  {
   "cell_type": "markdown",
   "metadata": {},
   "source": [
    "### swapping two numbers"
   ]
  },
  {
   "cell_type": "code",
   "execution_count": 17,
   "metadata": {},
   "outputs": [
    {
     "name": "stdout",
     "output_type": "stream",
     "text": [
      "a is 10\n",
      "b is 8 \n",
      "\n",
      "a is 10\n",
      "b is 8\n",
      "\n",
      "a is 10\n",
      "b is 8\n",
      "\n",
      "a is 10\n",
      "b is 8\n",
      "\n"
     ]
    }
   ],
   "source": [
    "#1.using third variable\n",
    "a=8\n",
    "b=10\n",
    "temp=a\n",
    "a=b\n",
    "b=temp                          #need of extra variable temp that use extra memory\n",
    "print('a is {}'.format(a))\n",
    "print('b is {} \\n'.format(b))\n",
    "\n",
    "#2.using arithmetic operators\n",
    "a=5\n",
    "b=6\n",
    "a=a+b                  #here 5(0b101) +6(0b110) = 11(0b1011)ie 11 takes extra bit so again extra mem required\n",
    "b=a-b\n",
    "a=a-b\n",
    "print('a is {}'.format(a))\n",
    "print('b is {}\\n'.format(b))\n",
    "\n",
    "\n",
    "#2.using xor operators\n",
    "a=8\n",
    "b=10\n",
    "a=a^b                     #above memory requirment problem solved here\n",
    "b=a^b\n",
    "a=a^b\n",
    "print('a is {}'.format(a))\n",
    "print('b is {}\\n'.format(b))\n",
    "\n",
    "#2.using python functionality\n",
    "a=8\n",
    "b=10\n",
    "a,b=b,a                 #python provide direct functionality towards swapping problem\n",
    "print('a is {}'.format(a))\n",
    "print('b is {}\\n'.format(b))\n",
    "\n"
   ]
  },
  {
   "cell_type": "markdown",
   "metadata": {},
   "source": [
    "### importing math functions"
   ]
  },
  {
   "cell_type": "code",
   "execution_count": 13,
   "metadata": {},
   "outputs": [
    {
     "name": "stdout",
     "output_type": "stream",
     "text": [
      "5.0\n",
      "2\n",
      "4\n",
      "3.141592653589793\n",
      "2.718281828459045\n",
      "9.0\n",
      "-0.9880316240928618\n",
      "-1.995200412208242\n"
     ]
    }
   ],
   "source": [
    "import math as m\n",
    "print(m.sqrt(25))      #finds square root of\n",
    "print(m.floor(2.8))    #set to the floor value\n",
    "print(m.ceil(3.2))     #set to the ceil value\n",
    "print(m.pi)            #prints 'pie' exact value\n",
    "print(m.e)             #prints 'epslon' exact value\n",
    "print(m.pow(3,2))      #prints3^2\n",
    "print(m.sin(30))       #cal.sin 30\n",
    "print(m.tan(90))       #cal.tan 90"
   ]
  },
  {
   "cell_type": "markdown",
   "metadata": {},
   "source": [
    "### taking input from user additional things\n",
    "it always takes values in the form of strings only if you need to convert it into other form you need to specify it well before.\n"
   ]
  },
  {
   "cell_type": "code",
   "execution_count": 4,
   "metadata": {},
   "outputs": [
    {
     "name": "stdout",
     "output_type": "stream",
     "text": [
      "enter a first valueabhi\n",
      "enter a second value shinde\n",
      "abhi shinde\n"
     ]
    }
   ],
   "source": [
    "a = (input(\"enter a first value\"))  # by default it will take everything as string\n",
    "b = (input(\"enter a second value\")) \n",
    "d = a+b\n",
    "print(d)\n"
   ]
  },
  {
   "cell_type": "code",
   "execution_count": null,
   "metadata": {},
   "outputs": [],
   "source": [
    "a = int (input(\"enter a first value\"))  # need to specify apropriate datatype\n",
    "b = int(input(\"enter a second value\")) \n",
    "d = a+b\n",
    "print(d)\n"
   ]
  },
  {
   "cell_type": "code",
   "execution_count": 6,
   "metadata": {},
   "outputs": [
    {
     "name": "stdout",
     "output_type": "stream",
     "text": [
      "enter expression \n",
      "2+3-1\n",
      "4\n"
     ]
    }
   ],
   "source": [
    "#you can directly evaluate the values you took as input as\n",
    "a = eval(input('enter expression \\n'))  #use eval before\n",
    "print(a)    "
   ]
  },
  {
   "cell_type": "markdown",
   "metadata": {},
   "source": [
    "return while using function"
   ]
  }
 ],
 "metadata": {
  "kernelspec": {
   "display_name": "Python 3",
   "language": "python",
   "name": "python3"
  },
  "language_info": {
   "codemirror_mode": {
    "name": "ipython",
    "version": 3
   },
   "file_extension": ".py",
   "mimetype": "text/x-python",
   "name": "python",
   "nbconvert_exporter": "python",
   "pygments_lexer": "ipython3",
   "version": "3.7.4"
  }
 },
 "nbformat": 4,
 "nbformat_minor": 2
}
