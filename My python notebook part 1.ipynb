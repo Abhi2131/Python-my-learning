{
 "cells": [
  {
   "cell_type": "markdown",
   "metadata": {},
   "source": [
    "  #                                😊PYTHON part 1😊\n",
    "  \n",
    "  \n",
    "  "
   ]
  },
  {
   "cell_type": "markdown",
   "metadata": {},
   "source": [
    ".ipynb -extention that is in jupyter notebook \n",
    "\n",
    ".py -extention that is in python"
   ]
  },
  {
   "cell_type": "markdown",
   "metadata": {},
   "source": [
    "## INTRODUCTION\n",
    "        \n",
    "  ###### 1)BASICS:"
   ]
  },
  {
   "cell_type": "code",
   "execution_count": 1,
   "metadata": {},
   "outputs": [
    {
     "data": {
      "text/plain": [
       "5"
      ]
     },
     "execution_count": 1,
     "metadata": {},
     "output_type": "execute_result"
    }
   ],
   "source": [
    "2+3 #we can prform direct arithmatic with python and print it(Without using print funtion)"
   ]
  },
  {
   "cell_type": "code",
   "execution_count": 2,
   "metadata": {},
   "outputs": [
    {
     "data": {
      "text/plain": [
       "8"
      ]
     },
     "execution_count": 2,
     "metadata": {},
     "output_type": "execute_result"
    }
   ],
   "source": [
    "'abhi'\n",
    "2+6           #even though it displaying result without printing ,in this case it\n",
    "              #will get only print last equation(last result will overwrite on previous) "
   ]
  },
  {
   "cell_type": "markdown",
   "metadata": {},
   "source": [
    "###### 2)DIFFERENT PRINT OPERATION :"
   ]
  },
  {
   "cell_type": "code",
   "execution_count": 3,
   "metadata": {},
   "outputs": [
    {
     "name": "stdout",
     "output_type": "stream",
     "text": [
      "abhi\n",
      "8\n"
     ]
    }
   ],
   "source": [
    "# to print anything we can directly use print function\n",
    "print('abhi')    #support to print string directly\n",
    "print(2+6)    #itself perform arithmatic computation\n",
    "\n"
   ]
  },
  {
   "cell_type": "code",
   "execution_count": 4,
   "metadata": {},
   "outputs": [
    {
     "name": "stdout",
     "output_type": "stream",
     "text": [
      "sum of 2+2 is 4\n",
      "sum of 2+2 is 4\n"
     ]
    }
   ],
   "source": [
    "#1] \n",
    "print ('sum of 2+2 is {}'.format (2+2))  # USE '{} AND .format()' to place result in\n",
    "                                               #apropriate place\n",
    "print (\"sum of 2+2 is\" ,2+2)  # with this comma separated way we can only place rsult at end of string\n",
    " "
   ]
  },
  {
   "cell_type": "code",
   "execution_count": 5,
   "metadata": {},
   "outputs": [
    {
     "name": "stdout",
     "output_type": "stream",
     "text": [
      "sum of 2 and 3 is 5\n",
      "Sum of 9 and 7 is 97\n"
     ]
    }
   ],
   "source": [
    "#2] \n",
    "var1=2\n",
    "va2=3                                                       \n",
    "print(\"sum of {} and {} is {}\".format (var1,va2,var1+va2)) \n",
    "\n",
    "# here it supports 1:1 mapping(i.e in 1st {},first value(i.e var1)will pass,\n",
    "# in 2nd {},second value(i.e var2)will pass and continued like that in sequence)\n",
    "\n",
    "#3}\n",
    "var1 = '9'\n",
    "var2 = '7'\n",
    "print(\"Sum of {} and {} is {}\".format(var1,var2,var1+var2))  \n",
    " \n",
    "#logic:as we are passing string so with string '+' means concatination \n",
    "\n"
   ]
  },
  {
   "cell_type": "code",
   "execution_count": 6,
   "metadata": {},
   "outputs": [
    {
     "name": "stdout",
     "output_type": "stream",
     "text": [
      "give two numbers\n",
      "\n"
     ]
    },
    {
     "ename": "ValueError",
     "evalue": "invalid literal for int() with base 10: ''",
     "output_type": "error",
     "traceback": [
      "\u001b[1;31m---------------------------------------------------------------------------\u001b[0m",
      "\u001b[1;31mValueError\u001b[0m                                Traceback (most recent call last)",
      "\u001b[1;32m<ipython-input-6-8f33f00bf949>\u001b[0m in \u001b[0;36m<module>\u001b[1;34m\u001b[0m\n\u001b[0;32m      1\u001b[0m \u001b[1;31m#4}\u001b[0m\u001b[1;33m\u001b[0m\u001b[1;33m\u001b[0m\u001b[1;33m\u001b[0m\u001b[0m\n\u001b[0;32m      2\u001b[0m \u001b[0mprint\u001b[0m \u001b[1;33m(\u001b[0m\u001b[1;34m'give two numbers'\u001b[0m \u001b[1;33m)\u001b[0m\u001b[1;33m\u001b[0m\u001b[1;33m\u001b[0m\u001b[0m\n\u001b[1;32m----> 3\u001b[1;33m \u001b[0ma\u001b[0m\u001b[1;33m=\u001b[0m\u001b[0mint\u001b[0m\u001b[1;33m(\u001b[0m\u001b[0minput\u001b[0m\u001b[1;33m(\u001b[0m\u001b[1;33m)\u001b[0m\u001b[1;33m)\u001b[0m                           \u001b[1;31m#input(): used to getting input from user\u001b[0m\u001b[1;33m\u001b[0m\u001b[1;33m\u001b[0m\u001b[0m\n\u001b[0m\u001b[0;32m      4\u001b[0m \u001b[0mb\u001b[0m\u001b[1;33m=\u001b[0m\u001b[0mint\u001b[0m\u001b[1;33m(\u001b[0m\u001b[0minput\u001b[0m\u001b[1;33m(\u001b[0m\u001b[1;33m)\u001b[0m\u001b[1;33m)\u001b[0m\u001b[1;33m\u001b[0m\u001b[1;33m\u001b[0m\u001b[0m\n\u001b[0;32m      5\u001b[0m \u001b[0mprint\u001b[0m\u001b[1;33m(\u001b[0m\u001b[1;34m'sum of {} and {} is {}'\u001b[0m \u001b[1;33m.\u001b[0m\u001b[0mformat\u001b[0m\u001b[1;33m(\u001b[0m\u001b[0ma\u001b[0m\u001b[1;33m,\u001b[0m\u001b[0mb\u001b[0m\u001b[1;33m,\u001b[0m\u001b[0mint\u001b[0m\u001b[1;33m(\u001b[0m\u001b[0ma\u001b[0m\u001b[1;33m+\u001b[0m\u001b[0mb\u001b[0m\u001b[1;33m)\u001b[0m\u001b[1;33m)\u001b[0m\u001b[1;33m)\u001b[0m\u001b[1;33m\u001b[0m\u001b[1;33m\u001b[0m\u001b[0m\n",
      "\u001b[1;31mValueError\u001b[0m: invalid literal for int() with base 10: ''"
     ]
    }
   ],
   "source": [
    "#4}\n",
    "print ('give two numbers' )\n",
    "a=int(input())                           #input(): used to getting input from user\n",
    "b=int(input())\n",
    "print('sum of {} and {} is {}' .format(a,b,int(a+b)))"
   ]
  },
  {
   "cell_type": "code",
   "execution_count": 7,
   "metadata": {},
   "outputs": [
    {
     "name": "stdout",
     "output_type": "stream",
     "text": [
      "sum of 6 and 1 is 7\n"
     ]
    }
   ],
   "source": [
    "#to break 1:1 mapping\n",
    "a=1\n",
    "b=6\n",
    "print('sum of {p} and {q} is {r}'.format(q=a,p=b,r=a+b))\n"
   ]
  },
  {
   "cell_type": "markdown",
   "metadata": {},
   "source": [
    "###### 3)FINDING TYPE OF VARIABLE :"
   ]
  },
  {
   "cell_type": "code",
   "execution_count": 8,
   "metadata": {},
   "outputs": [
    {
     "name": "stdout",
     "output_type": "stream",
     "text": [
      "<class 'complex'>\n",
      "<class 'str'>\n",
      "<class 'float'>\n",
      "<class 'int'>\n"
     ]
    }
   ],
   "source": [
    "print (type(20+55j))\n",
    "print (type('ddd'))\n",
    "print (type(2.33))\n",
    "print (type(56))             #USE 'type()' TO FIND CLASS OF OBJECT/TYPE OF VARIABLE"
   ]
  },
  {
   "cell_type": "markdown",
   "metadata": {},
   "source": [
    "###### 4)isinstance () and getsizeof() :"
   ]
  },
  {
   "cell_type": "code",
   "execution_count": 9,
   "metadata": {},
   "outputs": [
    {
     "name": "stdout",
     "output_type": "stream",
     "text": [
      "True\n",
      "False\n"
     ]
    }
   ],
   "source": [
    "#isinstance():check if it belongd to perticular task(subclass).it gives o/p in boolean form(True/False)\n",
    "\n",
    "a=11.2\n",
    "print(isinstance(a,float))\n",
    "print(isinstance(a,int))"
   ]
  },
  {
   "cell_type": "code",
   "execution_count": 10,
   "metadata": {},
   "outputs": [
    {
     "name": "stdout",
     "output_type": "stream",
     "text": [
      "50\n",
      "24\n"
     ]
    }
   ],
   "source": [
    "#getsizeof():returns the size of an object in byte\n",
    "import sys  #use before to importing from system\n",
    "a='A'\n",
    "b=2.22\n",
    "\n",
    "print(sys.getsizeof(a))\n",
    "print(sys.getsizeof(b))\n",
    "\n"
   ]
  },
  {
   "cell_type": "markdown",
   "metadata": {},
   "source": [
    "## STRINGS "
   ]
  },
  {
   "cell_type": "markdown",
   "metadata": {},
   "source": [
    "###### Strings: \n",
    "               creates simply by enclosing character under quotes\n",
    "* in python single quote is equivalent to double.however its useful in cases like "
   ]
  },
  {
   "cell_type": "code",
   "execution_count": 11,
   "metadata": {},
   "outputs": [
    {
     "ename": "SyntaxError",
     "evalue": "unexpected EOF while parsing (<ipython-input-11-640ee2595a0b>, line 24)",
     "output_type": "error",
     "traceback": [
      "\u001b[1;36m  File \u001b[1;32m\"<ipython-input-11-640ee2595a0b>\"\u001b[1;36m, line \u001b[1;32m24\u001b[0m\n\u001b[1;33m    \u001b[0m\n\u001b[1;37m    ^\u001b[0m\n\u001b[1;31mSyntaxError\u001b[0m\u001b[1;31m:\u001b[0m unexpected EOF while parsing\n"
     ]
    }
   ],
   "source": [
    "A='Abhi'\n",
    "print(A)\n",
    "B=\"Abhi\"\n",
    "print(B)         #both are same however if i want to write Abhi's Kitchen\n",
    "                  #see what happens with single and double quote\n",
    "\n",
    "    \n",
    "# C='Abhi's Kitchen'    -----gives syntax error or print only upto Abhi\n",
    "# print(C)\n",
    "\n",
    "D=\"Abhi's Kitchen\"\n",
    "print(D) \n",
    "\n",
    "print(\"----or------\")\n",
    "\n",
    "print('Abhi\\'s Kitchen')   (#make use of '\\')\n",
    "\n",
    "print(\"\"\"\n",
    "hi\n",
    "hello                             \n",
    "how are you\n",
    "     \"\"\")             #triple quotes are used to define multi lines strings.\n",
    " \n",
    "\n"
   ]
  },
  {
   "cell_type": "markdown",
   "metadata": {},
   "source": [
    "* Strings are immutable in python(ie Assignment Operator Cant used)   {immutable = not replacable}\n",
    "* In String  using  '+'  operator Concatination is performed \n",
    "* In String  using  '*'  operator duplicate copies of given string is generated "
   ]
  },
  {
   "cell_type": "code",
   "execution_count": 12,
   "metadata": {},
   "outputs": [
    {
     "name": "stdout",
     "output_type": "stream",
     "text": [
      "Abhishinde\n",
      "add the boy\n",
      "AbhiAbhiAbhiAbhiAbhi\n"
     ]
    }
   ],
   "source": [
    "#'hello' = 'hi'                not possible as its immutable ie not replacable\n",
    "\n",
    "\n",
    "### \n",
    "str_ = \"hello world\"\n",
    "# \"world replace o with @\"\n",
    "\n",
    "# str_[7] = '@'                # this will give error as string is immutable\n",
    "\n",
    "a=('Abhi')\n",
    "b=('shinde')\n",
    "print ('{}'.format(a+b))         \n",
    "\n",
    "s='add'\n",
    "print(s + ' the ' + str(\"boy\"))             #    +  == concatination\n",
    "                                       # using \"str ()\"  function we can add string at any time  \n",
    "\n",
    "print ('{}'.format(a*5))          #    *  == duplication of copies\n",
    "\n"
   ]
  },
  {
   "cell_type": "markdown",
   "metadata": {},
   "source": [
    "* string supports various __builtin__ methods\n",
    "  * ex: print,input ,len, sum, sorted, ord, chr, min, max ,open,read,floor,ceil,write and so many"
   ]
  },
  {
   "cell_type": "code",
   "execution_count": 33,
   "metadata": {},
   "outputs": [
    {
     "data": {
      "text/plain": [
       "['ArithmeticError',\n",
       " 'AssertionError',\n",
       " 'AttributeError',\n",
       " 'BaseException',\n",
       " 'BlockingIOError',\n",
       " 'BrokenPipeError',\n",
       " 'BufferError',\n",
       " 'BytesWarning',\n",
       " 'ChildProcessError',\n",
       " 'ConnectionAbortedError',\n",
       " 'ConnectionError',\n",
       " 'ConnectionRefusedError',\n",
       " 'ConnectionResetError',\n",
       " 'DeprecationWarning',\n",
       " 'EOFError',\n",
       " 'Ellipsis',\n",
       " 'EnvironmentError',\n",
       " 'Exception',\n",
       " 'False',\n",
       " 'FileExistsError',\n",
       " 'FileNotFoundError',\n",
       " 'FloatingPointError',\n",
       " 'FutureWarning',\n",
       " 'GeneratorExit',\n",
       " 'IOError',\n",
       " 'ImportError',\n",
       " 'ImportWarning',\n",
       " 'IndentationError',\n",
       " 'IndexError',\n",
       " 'InterruptedError',\n",
       " 'IsADirectoryError',\n",
       " 'KeyError',\n",
       " 'KeyboardInterrupt',\n",
       " 'LookupError',\n",
       " 'MemoryError',\n",
       " 'ModuleNotFoundError',\n",
       " 'NameError',\n",
       " 'None',\n",
       " 'NotADirectoryError',\n",
       " 'NotImplemented',\n",
       " 'NotImplementedError',\n",
       " 'OSError',\n",
       " 'OverflowError',\n",
       " 'PendingDeprecationWarning',\n",
       " 'PermissionError',\n",
       " 'ProcessLookupError',\n",
       " 'RecursionError',\n",
       " 'ReferenceError',\n",
       " 'ResourceWarning',\n",
       " 'RuntimeError',\n",
       " 'RuntimeWarning',\n",
       " 'StopAsyncIteration',\n",
       " 'StopIteration',\n",
       " 'SyntaxError',\n",
       " 'SyntaxWarning',\n",
       " 'SystemError',\n",
       " 'SystemExit',\n",
       " 'TabError',\n",
       " 'TimeoutError',\n",
       " 'True',\n",
       " 'TypeError',\n",
       " 'UnboundLocalError',\n",
       " 'UnicodeDecodeError',\n",
       " 'UnicodeEncodeError',\n",
       " 'UnicodeError',\n",
       " 'UnicodeTranslateError',\n",
       " 'UnicodeWarning',\n",
       " 'UserWarning',\n",
       " 'ValueError',\n",
       " 'Warning',\n",
       " 'WindowsError',\n",
       " 'ZeroDivisionError',\n",
       " '__IPYTHON__',\n",
       " '__build_class__',\n",
       " '__debug__',\n",
       " '__doc__',\n",
       " '__import__',\n",
       " '__loader__',\n",
       " '__name__',\n",
       " '__package__',\n",
       " '__spec__',\n",
       " 'abs',\n",
       " 'all',\n",
       " 'any',\n",
       " 'ascii',\n",
       " 'bin',\n",
       " 'bool',\n",
       " 'breakpoint',\n",
       " 'bytearray',\n",
       " 'bytes',\n",
       " 'callable',\n",
       " 'chr',\n",
       " 'classmethod',\n",
       " 'compile',\n",
       " 'complex',\n",
       " 'copyright',\n",
       " 'credits',\n",
       " 'delattr',\n",
       " 'dict',\n",
       " 'dir',\n",
       " 'display',\n",
       " 'divmod',\n",
       " 'enumerate',\n",
       " 'eval',\n",
       " 'exec',\n",
       " 'filter',\n",
       " 'float',\n",
       " 'format',\n",
       " 'frozenset',\n",
       " 'get_ipython',\n",
       " 'getattr',\n",
       " 'globals',\n",
       " 'hasattr',\n",
       " 'hash',\n",
       " 'help',\n",
       " 'hex',\n",
       " 'id',\n",
       " 'input',\n",
       " 'int',\n",
       " 'isinstance',\n",
       " 'issubclass',\n",
       " 'iter',\n",
       " 'len',\n",
       " 'license',\n",
       " 'list',\n",
       " 'locals',\n",
       " 'map',\n",
       " 'max',\n",
       " 'memoryview',\n",
       " 'min',\n",
       " 'next',\n",
       " 'object',\n",
       " 'oct',\n",
       " 'open',\n",
       " 'ord',\n",
       " 'pow',\n",
       " 'print',\n",
       " 'property',\n",
       " 'range',\n",
       " 'repr',\n",
       " 'reversed',\n",
       " 'round',\n",
       " 'set',\n",
       " 'setattr',\n",
       " 'slice',\n",
       " 'sorted',\n",
       " 'staticmethod',\n",
       " 'str',\n",
       " 'sum',\n",
       " 'super',\n",
       " 'tuple',\n",
       " 'type',\n",
       " 'vars',\n",
       " 'zip']"
      ]
     },
     "execution_count": 33,
     "metadata": {},
     "output_type": "execute_result"
    }
   ],
   "source": [
    "dir (__builtin__)      #returns list of all existing built_in methods\n"
   ]
  },
  {
   "cell_type": "code",
   "execution_count": 40,
   "metadata": {},
   "outputs": [
    {
     "name": "stdout",
     "output_type": "stream",
     "text": [
      "97\n",
      "c\n",
      "7\n",
      "['a', 'b', 'h', 'i', 'i', 'j', 't']\n",
      "a\n",
      "t\n"
     ]
    }
   ],
   "source": [
    "print(ord('a'))                 #ord(): returns  ascii value of character\n",
    "print(chr(99))                  #chr(): returns character from ascii value \n",
    "print(len('abhijit'))           #len(): returns  length of string\n",
    "print(sorted('abhijit'))        #sorted(): separates string into character(**in alphabetic way)\n",
    "print(min('abhijit'))           #min():find minimum letter from alphabet in given string\n",
    "print(max('abhijit'))           #max():find maximum letter from alphabet in given string"
   ]
  },
  {
   "cell_type": "markdown",
   "metadata": {},
   "source": [
    "* FEW MORE IMP OPERATIONS WITH STRINGS"
   ]
  },
  {
   "cell_type": "code",
   "execution_count": 47,
   "metadata": {},
   "outputs": [
    {
     "name": "stdout",
     "output_type": "stream",
     "text": [
      "e\n",
      "o\n"
     ]
    }
   ],
   "source": [
    "#1) ACCESSING single ELEMENTS FROM STRING\n",
    "P = \"hello world\"\n",
    "print(P[1])\n",
    "print(P[7])\n"
   ]
  },
  {
   "cell_type": "code",
   "execution_count": 60,
   "metadata": {},
   "outputs": [
    {
     "name": "stdout",
     "output_type": "stream",
     "text": [
      "hello\n",
      "ello\n",
      "world\n",
      " ----------------------------\n",
      "hello\n",
      "world\n",
      " ----------------------------\n"
     ]
    },
    {
     "data": {
      "text/plain": [
       "'helllo world'"
      ]
     },
     "execution_count": 60,
     "metadata": {},
     "output_type": "execute_result"
    }
   ],
   "source": [
    "#2) ACCESSING multiple ELEMENTS FROM STRING\n",
    "print(P[0:5])          # [start:end] note: end is excluded\n",
    "print(P[1:5])\n",
    "print(P[6:11])\n",
    "\n",
    "print(\"\"\" ----------------------------\"\"\")\n",
    "\n",
    "print(P[:5])           # [:end] initial value is not inputed:here default value=0\n",
    "                       #(ie first character of string)\n",
    "print(P[6:])           # [start:] last value is not inputed:here default value=n\n",
    "                       #(ie last character of string)\n",
    "    \n",
    "print(\"\"\" ----------------------------\"\"\")\n",
    "    \n",
    "P[:3]+'l'+P[3:]        #want to add extra 'l' @position 3  \n"
   ]
  },
  {
   "cell_type": "code",
   "execution_count": 63,
   "metadata": {},
   "outputs": [
    {
     "data": {
      "text/plain": [
       "'happy th@ughts'"
      ]
     },
     "execution_count": 63,
     "metadata": {},
     "output_type": "execute_result"
    }
   ],
   "source": [
    "p='happy thoughts'\n",
    "#replace o with@\n",
    "p[:8]+'@' + p[9:]"
   ]
  },
  {
   "cell_type": "code",
   "execution_count": null,
   "metadata": {},
   "outputs": [],
   "source": []
  },
  {
   "cell_type": "code",
   "execution_count": null,
   "metadata": {},
   "outputs": [],
   "source": []
  },
  {
   "cell_type": "markdown",
   "metadata": {},
   "source": [
    "## OPERATORS "
   ]
  },
  {
   "cell_type": "markdown",
   "metadata": {},
   "source": [
    "* Arithmetic operators: +,-,/,//,*,,%"
   ]
  },
  {
   "cell_type": "code",
   "execution_count": 64,
   "metadata": {},
   "outputs": [
    {
     "name": "stdout",
     "output_type": "stream",
     "text": [
      "Enter first integer:6\n",
      "Enter second integer:2\n",
      "8\n",
      "4\n",
      "12\n",
      "36\n",
      "3.0\n",
      "3\n",
      "0\n"
     ]
    }
   ],
   "source": [
    "### WAP to display results using above arithmetic operators on two integers from users.\n",
    "num1 = int(input('Enter first integer:'))\n",
    "num2 = int(input('Enter second integer:'))\n",
    "print(num1+num2)\n",
    "print(num1-num2)\n",
    "print(num1*num2)\n",
    "print(num1**num2)                  # '**' gives you power of(raise to ie (num1^num2))\n",
    "print(num1/num2)                  # '/' gives you division in float format\n",
    "print(num1//num2)                 # '//' gives you division in decimal format\n",
    "print(num1%num2)                  # '%' gives you reminder"
   ]
  },
  {
   "cell_type": "markdown",
   "metadata": {},
   "source": [
    "* comparison operators: ==,!=,>,>=,<,<="
   ]
  },
  {
   "cell_type": "code",
   "execution_count": 65,
   "metadata": {},
   "outputs": [
    {
     "name": "stdout",
     "output_type": "stream",
     "text": [
      "False\n",
      "True\n",
      "True\n",
      "True\n",
      "False\n",
      "False\n"
     ]
    }
   ],
   "source": [
    "var1 = 5\n",
    "var2 = 4\n",
    "print(var1==var2) # False\n",
    "print(var1!=var2) # True\n",
    "print(var1>var2)  # True\n",
    "print(var1>=var2) # True\n",
    "print(var1<var2)  # False\n",
    "print(var1<=var2) # False"
   ]
  },
  {
   "cell_type": "markdown",
   "metadata": {},
   "source": [
    "Logical operators: and, or, not\n",
    "    * and/or : two operands\n",
    "    * not    : single operand"
   ]
  },
  {
   "cell_type": "code",
   "execution_count": 67,
   "metadata": {},
   "outputs": [
    {
     "name": "stdout",
     "output_type": "stream",
     "text": [
      "False\n",
      "False\n",
      "False\n",
      "True\n",
      "True\n",
      "True\n"
     ]
    }
   ],
   "source": [
    "print(True and False) # False\n",
    "print(not True and False) # False\n",
    "print((not True) and (not False)) # False\n",
    "print(not (True and (not True or False and True))) # True\n",
    "print(True or False and (not True or False))  # True\n",
    "print((True or False and (not True or False)) or True) # True\n",
    "  \n",
    "                #priority: 1.bracket\n",
    "                #          2.(1.not 2.And 3.or)\n",
    "                #          3.left to right \n",
    "                "
   ]
  },
  {
   "cell_type": "markdown",
   "metadata": {},
   "source": [
    "* Assignment Operators: =,+=,*=,-=,/=,%=,//="
   ]
  },
  {
   "cell_type": "code",
   "execution_count": 7,
   "metadata": {},
   "outputs": [
    {
     "name": "stdout",
     "output_type": "stream",
     "text": [
      "30\n",
      "35\n",
      "25\n",
      "100\n",
      "4\n",
      "0.4\n"
     ]
    }
   ],
   "source": [
    "a  = 10\n",
    "a = a + 20\n",
    "print(a) # 30\n",
    "a += 5\n",
    "print(a) # 35\n",
    "a -= 10\n",
    "print(a) # 25\n",
    "a *= 4\n",
    "print(a) # 100\n",
    "a %= 6\n",
    "print(a) # 4\n",
    "a /= 10\n",
    "print(a) # 0.4"
   ]
  },
  {
   "cell_type": "markdown",
   "metadata": {},
   "source": [
    "* Identity operator: is, is not\n",
    "    * used to determine a certain variable contain\n",
    "    * works on both scalar and vector"
   ]
  },
  {
   "cell_type": "code",
   "execution_count": 11,
   "metadata": {
    "scrolled": true
   },
   "outputs": [
    {
     "name": "stdout",
     "output_type": "stream",
     "text": [
      "True\n",
      "False\n",
      "False\n",
      "True\n"
     ]
    }
   ],
   "source": [
    "print(4 is 4) # ==\n",
    "print(4 is not 4) # !=\n",
    "print(5 is 3)\n",
    "print(6 is not 7)"
   ]
  },
  {
   "cell_type": "markdown",
   "metadata": {},
   "source": [
    "* membership operators: in, not in\n",
    "    * used to validate a membership of value\n",
    "    * works only with iterables"
   ]
  },
  {
   "cell_type": "code",
   "execution_count": 12,
   "metadata": {},
   "outputs": [
    {
     "name": "stdout",
     "output_type": "stream",
     "text": [
      "True\n",
      "True\n"
     ]
    }
   ],
   "source": [
    "a=('a','b','c','1','2')\n",
    "print('2'in a)     # as \"'2'\" is a member of it \n",
    "print(2 not in a)  # as 2(as a value) not present so shows #true {and 2 as a string is present}"
   ]
  },
  {
   "cell_type": "code",
   "execution_count": 1,
   "metadata": {},
   "outputs": [
    {
     "name": "stdout",
     "output_type": "stream",
     "text": [
      "True\n",
      "False\n",
      "----------------\n",
      "True\n",
      "False\n"
     ]
    }
   ],
   "source": [
    "print(4 in [5,6,7,4])\n",
    "print(4 not in [5,6,7,4])\n",
    "\n",
    "print('----------------')\n",
    "\n",
    "print('bangalore' in ['chennai','pune','goa','bangalore'])\n",
    "print('bangalore' not in ['chennai','pune','goa','bangalore'])"
   ]
  },
  {
   "cell_type": "markdown",
   "metadata": {},
   "source": [
    "#### Bitwise operators:\n",
    "* ~ : compliment operator (tilde sign) :firstly convert into binary form and then take its 2nd compliment \n",
    "* & : AND operator :firstly convert into binary form and then perform a AND operation \n",
    "* | : OR operator :firstly convert into binary form and then perform a OR operation \n",
    "* ^ : XOR operator :firstly convert into binary form and then perform a XOR operation \n",
    "* '>>': Right shift : firstly convert into binary form and then shift decimal point to the right side of number\n",
    "* <<: left shift : firstly convert into binary form and then shift decimal point to the left side of number"
   ]
  },
  {
   "cell_type": "code",
   "execution_count": 13,
   "metadata": {},
   "outputs": [
    {
     "name": "stdout",
     "output_type": "stream",
     "text": [
      "-13\n",
      "12\n",
      "13\n",
      "1\n",
      "48\n",
      "3\n"
     ]
    }
   ],
   "source": [
    "a= ~12    #binary form =00001100 \n",
    "print(a)\n",
    "b=12 & 13  #[bitwise AND] binary form =00001100 & 00001101  , =00001100 >>(12)\n",
    "print(b)\n",
    "c=12 | 13  #[bitwise OR]binary form =00001100 | 00001101  , =00001101 >>(13)\n",
    "print(c)\n",
    "d=12 ^ 13  #[bitwise XOR]binary form =00001100 | 00001101  , =00000001 >>(1)\n",
    "print(d)\n",
    "e=12 << 2  #[bitwise left shift]binary form =00001100.00000 , after left shift 0000110000.000 >>(48)\n",
    "print(e)\n",
    "f=12 >> 2  #[bitwise right shift]binary form =00001100.00000 ,  after right shift 000011.0000000 >>(3)\n",
    "print(f)"
   ]
  },
  {
   "cell_type": "markdown",
   "metadata": {},
   "source": [
    "## DECISION MAKING AND LOOPS"
   ]
  },
  {
   "cell_type": "markdown",
   "metadata": {},
   "source": [
    "\n",
    "\n",
    "\n",
    "\n",
    "## decision making \n",
    "        - simple if\n",
    "        - if-else\n",
    "        - nested if-else"
   ]
  },
  {
   "cell_type": "markdown",
   "metadata": {},
   "source": [
    "### if :\n",
    " * simple if statement\n",
    "      syntax: \n",
    "         if (expression is True):\n",
    "            <if body>\n",
    "    \n",
    " * when you use 'if' several times in a code it will check each and every if statement instead you can use 'elif' so once any condition it satisfied of any 'elif' it will not waste time to check the other conditions.so recomndded to use 'elif' instead using 'IF' all the times  "
   ]
  },
  {
   "cell_type": "code",
   "execution_count": 76,
   "metadata": {},
   "outputs": [
    {
     "name": "stdout",
     "output_type": "stream",
     "text": [
      "6 is positive.\n",
      "out of the if body\n"
     ]
    }
   ],
   "source": [
    "## WAP to check if a number is positive and print suitable message\n",
    " \n",
    "num = 6 \n",
    "\n",
    "if (num > 0):\n",
    "    print('{} is positive.'.format(num))\n",
    "\n",
    "print('out of the if body') "
   ]
  },
  {
   "cell_type": "markdown",
   "metadata": {},
   "source": [
    "### if-else statement:\n",
    " * if-else statement\n",
    "      syntax: \n",
    "         if (expression is True):\n",
    "            <if body>\n",
    "         else: \n",
    "             <else body>"
   ]
  },
  {
   "cell_type": "code",
   "execution_count": 78,
   "metadata": {},
   "outputs": [
    {
     "name": "stdout",
     "output_type": "stream",
     "text": [
      "-6 is negative.\n",
      "out of the if body\n"
     ]
    }
   ],
   "source": [
    "num = -6 \n",
    "\n",
    "if (num > 0):\n",
    "    print('{} is positive.'.format(num))\n",
    "else: \n",
    "    print('{} is negative.'.format(num))\n",
    "\n",
    "print('out of the if body') "
   ]
  },
  {
   "cell_type": "markdown",
   "metadata": {},
   "source": [
    "### Nested if-else statement:\n",
    " *       syntax: \n",
    " \n",
    "         if (expression is True):\n",
    "              if body         \n",
    "              \n",
    "         elif (expression2 is True):\n",
    "            elif body\n",
    "            \n",
    "         elif (expression3 is True):\n",
    "            elif body\n",
    "                .......\n",
    "         else: \n",
    "            <else body>"
   ]
  },
  {
   "cell_type": "code",
   "execution_count": 79,
   "metadata": {},
   "outputs": [
    {
     "name": "stdout",
     "output_type": "stream",
     "text": [
      "0 is zero.\n",
      "out of the if body\n"
     ]
    }
   ],
   "source": [
    "num = 0 \n",
    "\n",
    "if (num > 0):\n",
    "    print('{} is positive.'.format(num))\n",
    "elif (num==0):\n",
    "    print('{} is zero.'.format(num))\n",
    "else: \n",
    "    print('{} is negative.'.format(num))\n",
    "\n",
    "print('out of the if body') "
   ]
  },
  {
   "cell_type": "code",
   "execution_count": 80,
   "metadata": {},
   "outputs": [
    {
     "name": "stdout",
     "output_type": "stream",
     "text": [
      "Enter an integer:5\n",
      "5 is an odd number.\n"
     ]
    }
   ],
   "source": [
    "# 1. WAP to check if a number is even or odd.\n",
    "\n",
    "number = int(input('Enter an integer:'))\n",
    "\n",
    "## check for even case\n",
    "if (number%2==0):\n",
    "    print(\"{} is an even number.\".format(number))\n",
    "else:\n",
    "    print(\"{} is an odd number.\".format(number))"
   ]
  },
  {
   "cell_type": "code",
   "execution_count": 81,
   "metadata": {},
   "outputs": [
    {
     "name": "stdout",
     "output_type": "stream",
     "text": [
      "Enter your score:56\n",
      "E\n"
     ]
    }
   ],
   "source": [
    "# WAP to assign grades to the student based on the scores obtained in the exam. \n",
    "#The grades are allocated as follows:\n",
    "\n",
    "#      Grade ‘A’ if scores between 90-100\n",
    "#      Grade ‘B’ if scores between 80-89\n",
    "#      Grade ‘C’ if score between 70-79\n",
    "#      Grade ‘D’ if score between 60-69\n",
    "#      Grade ‘E’ if score between 50-59\n",
    "#      Otherwise, Grade ‘F’\n",
    "\n",
    "\n",
    "score  = float(input('Enter your score:'))\n",
    "\n",
    "if (score >= 90):\n",
    "    print('A')\n",
    "elif ((score >= 80) & (score < 90)):\n",
    "    print('B')\n",
    "elif ((score >= 70) & (score < 80)):\n",
    "    print('C')\n",
    "elif ((score >= 60) & (score < 70)):\n",
    "    print('D')\n",
    "elif ((score >= 50) & (score < 60)):\n",
    "    print('E')\n",
    "else:\n",
    "    print('F')"
   ]
  },
  {
   "cell_type": "code",
   "execution_count": 82,
   "metadata": {},
   "outputs": [
    {
     "name": "stdout",
     "output_type": "stream",
     "text": [
      "Enter first number: 5\n",
      "Enter second number: 6\n",
      "Enter operator: *\n",
      "30\n"
     ]
    }
   ],
   "source": [
    "# 3. Design a basic calculator program which takes minimum three inputs (2 operands and an operator) \n",
    "# from the user to perform addition, subtraction, multiplication, division and modulo.\n",
    "\n",
    "num1 = int(input('Enter first number: ')) # operand1\n",
    "num2 = int(input('Enter second number: ')) # operand2\n",
    "op   = input('Enter operator: ')  # operator\n",
    "\n",
    "if op=='+': # Add\n",
    "    print(num1+num2)\n",
    "elif op=='-': # subtract\n",
    "    print(num1-num2)\n",
    "elif op=='*': # product\n",
    "    print(num1*num2)\n",
    "elif op=='/': # division\n",
    "    if num2!= 0:\n",
    "        print(num1/num2)\n",
    "    else:\n",
    "        print('Error: divide by zero not allowed!')\n",
    "elif op=='%': # modulo\n",
    "    print(num1%num2)    \n",
    "else:\n",
    "    print('Error: Invalid inputs!')"
   ]
  },
  {
   "cell_type": "code",
   "execution_count": 1,
   "metadata": {},
   "outputs": [
    {
     "name": "stdout",
     "output_type": "stream",
     "text": [
      "not a palindrome\n"
     ]
    }
   ],
   "source": [
    "#find given string is pallindrome or not\n",
    "a = 'abc'\n",
    "\n",
    "if  a== a[::-1] :\n",
    "    print('palindrome')\n",
    "else:\n",
    "    print('not a palindrome')\n"
   ]
  },
  {
   "cell_type": "markdown",
   "metadata": {},
   "source": [
    "## loops in python\n",
    "    - while\n",
    "    - for loop"
   ]
  },
  {
   "cell_type": "markdown",
   "metadata": {},
   "source": [
    "#### 1) while loop\n",
    "* sytntax - while loop\n",
    "\n",
    "    counter initialisation\n",
    "\n",
    " while (expression is True):\n",
    "         body of the while\n",
    "         update counter variable\n",
    "         \n",
    "* always take care of initilising counter before,then use expression and then update the counter in case of while loop.\n",
    "* if we want to start or stop the loop based on condtition"
   ]
  },
  {
   "cell_type": "code",
   "execution_count": 83,
   "metadata": {},
   "outputs": [
    {
     "name": "stdout",
     "output_type": "stream",
     "text": [
      "1\n",
      "2\n",
      "3\n",
      "4\n",
      "5\n",
      "6\n",
      "7\n",
      "8\n",
      "9\n",
      "10\n"
     ]
    }
   ],
   "source": [
    "## WAP to generate integers from 1 to 10.\n",
    "\n",
    "counter = 1 # initialisation of counter variable \n",
    "while counter < 11:\n",
    "    print(counter)\n",
    "    counter += 1 # updating counter variable (incrementing)   "
   ]
  },
  {
   "cell_type": "code",
   "execution_count": 19,
   "metadata": {},
   "outputs": [
    {
     "name": "stdout",
     "output_type": "stream",
     "text": [
      "1 2 3 4 5 6 7 8 9 10 "
     ]
    }
   ],
   "source": [
    "## if we want all result in same line use >> end = \"\" \n",
    "\n",
    "counter = 1 \n",
    "while counter < 11:\n",
    "    print(counter,end=\" \") #use,end = \"\"   >> to print all result in same line\n",
    "    counter += 1  "
   ]
  },
  {
   "cell_type": "code",
   "execution_count": 84,
   "metadata": {},
   "outputs": [
    {
     "name": "stdout",
     "output_type": "stream",
     "text": [
      "10\n",
      "9\n",
      "8\n",
      "7\n",
      "6\n",
      "5\n",
      "4\n",
      "3\n",
      "2\n",
      "1\n"
     ]
    }
   ],
   "source": [
    "## WAP to generate integers from 10 to 1.\n",
    "counter = 10 # initialisation of counter variable \n",
    "while counter > 0:\n",
    "    print(counter)\n",
    "    counter -= 1 # updating counter variable (decrementing) "
   ]
  },
  {
   "cell_type": "code",
   "execution_count": 7,
   "metadata": {},
   "outputs": [
    {
     "name": "stdout",
     "output_type": "stream",
     "text": [
      "enter a number:-6\n",
      "-6\n",
      "-5\n",
      "-4\n",
      "-3\n",
      "-2\n",
      "-1\n",
      "0\n",
      "1\n"
     ]
    }
   ],
   "source": [
    "## WAP to generate integers from N to 1 where N is an integer input given by user.\n",
    "a=int(input('enter a number:'))\n",
    "if(a>0):\n",
    "    while a > 0:\n",
    "        print(a)\n",
    "        a=a-1\n",
    "elif(a<0):\n",
    "    while a < 2:\n",
    "        print(a)\n",
    "        a=a+1\n",
    "else:\n",
    "     print('0')\n",
    "    \n",
    "        "
   ]
  },
  {
   "cell_type": "code",
   "execution_count": 96,
   "metadata": {},
   "outputs": [
    {
     "name": "stdout",
     "output_type": "stream",
     "text": [
      "1\n",
      "0\n",
      "-1\n",
      "-2\n",
      "-3\n",
      "-4\n",
      "-5\n",
      "-6\n"
     ]
    }
   ],
   "source": [
    "## WAP to generate integers from N to 1 where N is an integer input given by user.\n",
    "\n",
    "n = -6\n",
    "\n",
    "if n==1:\n",
    "    print('1')\n",
    "elif n > 1:\n",
    "    # print N to 1\n",
    "    c = n\n",
    "    while c >= 1:\n",
    "        print(c)\n",
    "        c = c - 1\n",
    "else:\n",
    "    # print 1 to -10\n",
    "    c = 1\n",
    "    print('1')\n",
    "    print('0')\n",
    "    while c <= abs(n):\n",
    "        print('-'+ str(c))\n",
    "        c = c + 1\n"
   ]
  },
  {
   "cell_type": "markdown",
   "metadata": {},
   "source": [
    "#### 1) for loop\n",
    "* sytntax -\n",
    "     \n",
    "     for (variable) in (set of numbers):\n",
    "     \n",
    "     body of the for loop\n",
    "     \n",
    "* in for loop statement firstly mention a variable name in bunch name\n",
    "* increment decrement done by theirselve\n"
   ]
  },
  {
   "cell_type": "code",
   "execution_count": 102,
   "metadata": {},
   "outputs": [
    {
     "name": "stdout",
     "output_type": "stream",
     "text": [
      "1\n",
      "2\n",
      "3\n",
      "4\n",
      "5\n",
      "6\n",
      "7\n",
      "8\n",
      "9\n",
      "10\n",
      "------OR---------\n",
      "1\n",
      "2\n",
      "3\n",
      "4\n",
      "5\n",
      "6\n",
      "7\n",
      "8\n",
      "9\n",
      "10\n"
     ]
    }
   ],
   "source": [
    "## WAP to generate integers from 1 to 10.\n",
    "for a in [1,2,3,4,5,6,7,8,9,10]:\n",
    "    print(a)\n",
    "\n",
    "print('------OR---------')\n",
    "\n",
    "for a in range(1,11):     # in range(start,end) start is inclusive and end is exclusive\n",
    "    print(a)"
   ]
  },
  {
   "cell_type": "code",
   "execution_count": 108,
   "metadata": {},
   "outputs": [
    {
     "name": "stdout",
     "output_type": "stream",
     "text": [
      "0\n",
      "2\n",
      "4\n",
      "6\n",
      "8\n",
      "10\n",
      "-------OR--------\n",
      "0\n",
      "2\n",
      "4\n",
      "6\n",
      "8\n",
      "10\n"
     ]
    }
   ],
   "source": [
    "## WAP to generate even integers from 0 to 10.\n",
    "\n",
    "for a in range(0,11):\n",
    "    if (a%2==0):\n",
    "        print(a)\n",
    "        \n",
    "print('-------OR--------')\n",
    "\n",
    "for i in range(0,11,2):   #range supports to print number with gap of 2(as its mention in range exprn)\n",
    "    print(i)"
   ]
  },
  {
   "cell_type": "code",
   "execution_count": 111,
   "metadata": {},
   "outputs": [
    {
     "name": "stdout",
     "output_type": "stream",
     "text": [
      "1\n",
      "4\n",
      "9\n",
      "16\n",
      "25\n",
      "36\n",
      "49\n",
      "64\n",
      "81\n",
      "100\n"
     ]
    }
   ],
   "source": [
    "## WAP to generate square of the integers between 1 to 10.\n",
    "for s in range(1,11):\n",
    "    print(s**2)"
   ]
  },
  {
   "cell_type": "markdown",
   "metadata": {},
   "source": [
    "### break and continue\n",
    "- break: stops current running loop,and go out of that loop\n",
    "- continue: skips a current running iteration and resumes with next iteration of same loop"
   ]
  },
  {
   "cell_type": "code",
   "execution_count": 112,
   "metadata": {},
   "outputs": [
    {
     "name": "stdout",
     "output_type": "stream",
     "text": [
      "1\n",
      "2\n",
      "3\n",
      "4\n",
      "6\n",
      "7\n",
      "8\n",
      "9\n",
      "10\n"
     ]
    }
   ],
   "source": [
    "### WAP to generate integers 1 to 10 but skip 5\n",
    "\n",
    "for i in range(1,11):\n",
    "    if i==5:\n",
    "        continue # sends cursor/control at line 3 \n",
    "    print(i)    "
   ]
  },
  {
   "cell_type": "code",
   "execution_count": 113,
   "metadata": {},
   "outputs": [
    {
     "name": "stdout",
     "output_type": "stream",
     "text": [
      "1\n",
      "2\n",
      "3\n",
      "4\n"
     ]
    }
   ],
   "source": [
    "### WAP to generate integers 1 to 10 and break after 5\n",
    "for i in range(1,11):\n",
    "    if i==5:\n",
    "        break # sends cursor/control at line 6 (outside loop body)\n",
    "    print(i)     "
   ]
  },
  {
   "cell_type": "code",
   "execution_count": 114,
   "metadata": {},
   "outputs": [
    {
     "name": "stdout",
     "output_type": "stream",
     "text": [
      "5\n",
      "l\n"
     ]
    }
   ],
   "source": [
    "# 1.  WAP to read and display input from the user as long as input is an integer number;\n",
    "#come out of the loop when input other than integers\n",
    "\n",
    "while True:\n",
    "    val = input()\n",
    "    if val.isdigit(): # isinstance(val,int)\n",
    "        pass\n",
    "    else:\n",
    "        break"
   ]
  },
  {
   "cell_type": "markdown",
   "metadata": {},
   "source": [
    "#### for loop: \n",
    "*used when number of iteration are known.\n",
    "*counter variable declared in declaration only\n",
    "*preferable when we exactly know how many times the loop will repeate\n",
    "\n",
    "#### while loop \n",
    "*used when number of iteration are unknown.\n",
    "*counter variable need declare before\n",
    "*preferable when run infinite no of time till condition is met.\n"
   ]
  },
  {
   "cell_type": "code",
   "execution_count": null,
   "metadata": {},
   "outputs": [],
   "source": []
  },
  {
   "cell_type": "markdown",
   "metadata": {},
   "source": [
    "## LIST  [ ]\n",
    " - ordered and changable data structure\n",
    " - allows duplicate data members\n",
    " - can be indexed\n",
    " - mutable(changable), hetregenous data type(allowed diffrent datatypes together) "
   ]
  },
  {
   "cell_type": "code",
   "execution_count": 2,
   "metadata": {},
   "outputs": [
    {
     "name": "stdout",
     "output_type": "stream",
     "text": [
      "<class 'list'>\n",
      "[3, 4, 5, 6, 'string', True, ['bangalore', 'chennai']]\n"
     ]
    }
   ],
   "source": [
    "#list always comes with SQUARE bracket and commas\n",
    "\n",
    "list_ = [3,4,5,6,'string',True,['bangalore','chennai']] \n",
    "print(type(list_))\n",
    "print(list_)"
   ]
  },
  {
   "cell_type": "markdown",
   "metadata": {},
   "source": [
    "### List operations\n",
    "#### 1) Accessing list items"
   ]
  },
  {
   "cell_type": "code",
   "execution_count": 6,
   "metadata": {},
   "outputs": [
    {
     "name": "stdout",
     "output_type": "stream",
     "text": [
      "<class 'int'>\n",
      "<class 'int'>\n",
      "<class 'bool'>\n",
      "<class 'list'>\n",
      "<class 'str'>\n"
     ]
    }
   ],
   "source": [
    "## indexing \n",
    "print(type(list_[3]))\n",
    "print(type(list_[2]))\n",
    "print(type(list_[5]))\n",
    "print(type(list_[6]))\n",
    "print(type(list_[4]))"
   ]
  },
  {
   "cell_type": "code",
   "execution_count": 5,
   "metadata": {},
   "outputs": [
    {
     "data": {
      "text/plain": [
       "[3, 4, 5, 6, 'string', True, ['bangalore', 'chennai']]"
      ]
     },
     "execution_count": 5,
     "metadata": {},
     "output_type": "execute_result"
    }
   ],
   "source": [
    "list_\n"
   ]
  },
  {
   "cell_type": "code",
   "execution_count": 7,
   "metadata": {},
   "outputs": [
    {
     "name": "stdout",
     "output_type": "stream",
     "text": [
      "['bangalore', 'chennai']\n",
      "chennai\n"
     ]
    }
   ],
   "source": [
    "### 'chennai'\n",
    "print(list_[6]) # returns both bangalore and chennai\n",
    "print(list_[6][1]) # chennai"
   ]
  },
  {
   "cell_type": "markdown",
   "metadata": {},
   "source": [
    "### "
   ]
  },
  {
   "cell_type": "markdown",
   "metadata": {},
   "source": [
    "#### 2) list negative indexing"
   ]
  },
  {
   "cell_type": "code",
   "execution_count": 9,
   "metadata": {},
   "outputs": [
    {
     "name": "stdout",
     "output_type": "stream",
     "text": [
      "True\n",
      "bangalore\n"
     ]
    }
   ],
   "source": [
    "#true\n",
    "print(list_[-2])\n",
    "\n",
    "#for benglore\n",
    "print(list_[-1][-2])"
   ]
  },
  {
   "cell_type": "markdown",
   "metadata": {},
   "source": [
    "#### 3) slicing/ range of values: \n",
    "    - obj[start:end]     # start is always inclusive; end is exclusive"
   ]
  },
  {
   "cell_type": "code",
   "execution_count": 11,
   "metadata": {},
   "outputs": [
    {
     "name": "stdout",
     "output_type": "stream",
     "text": [
      "[6, 'string', True]\n"
     ]
    }
   ],
   "source": [
    "#to find range /slice (ie no of consecutive element from list )\n",
    "print(list_[3:6])"
   ]
  },
  {
   "cell_type": "code",
   "execution_count": 12,
   "metadata": {},
   "outputs": [
    {
     "name": "stdout",
     "output_type": "stream",
     "text": [
      "[5, 6, 'string']\n"
     ]
    }
   ],
   "source": [
    "\n",
    "\n",
    "## negative slicing \n",
    "print(list_[-5:-2]) ### -2 will be excluded "
   ]
  },
  {
   "cell_type": "markdown",
   "metadata": {},
   "source": [
    "#### 4) changing values of the elements in the list"
   ]
  },
  {
   "cell_type": "code",
   "execution_count": 21,
   "metadata": {},
   "outputs": [
    {
     "name": "stdout",
     "output_type": "stream",
     "text": [
      "[3, 4, 5, 6, 7, 'string', True, ['bangalore', 'chennai'], 4.0, 'a', 5, 2, 8]\n"
     ]
    },
    {
     "data": {
      "text/plain": [
       "[3, 4, 5, 6, 7, 'string', True, ['bangalore', 'goa'], 4.0, 'a', 5, 2, 8]"
      ]
     },
     "execution_count": 21,
     "metadata": {},
     "output_type": "execute_result"
    }
   ],
   "source": [
    "list_ = [3,4,5,6,7,'string',True,['bangalore','chennai'], 4.0, 'a',5,2,8]\n",
    "print(list_)\n",
    "list_[-6][1] = 'goa'\n",
    "list_"
   ]
  },
  {
   "cell_type": "code",
   "execution_count": 22,
   "metadata": {},
   "outputs": [
    {
     "name": "stdout",
     "output_type": "stream",
     "text": [
      "[3, 4, 5, 6, 7, 'string', True, 0, 4.0, 'a', 5, 2, 8]\n"
     ]
    }
   ],
   "source": [
    "## replace ['bangalore', 'goa'] with 0\n",
    "list_[-6]=0\n",
    "print(list_)"
   ]
  },
  {
   "cell_type": "markdown",
   "metadata": {},
   "source": [
    "#### 5) Add an item in the existing list : append(), extend(), insert()"
   ]
  },
  {
   "cell_type": "markdown",
   "metadata": {},
   "source": [
    "#### .append() :               \n",
    "- used to insert single element after last element/item"
   ]
  },
  {
   "cell_type": "code",
   "execution_count": 23,
   "metadata": {},
   "outputs": [
    {
     "name": "stdout",
     "output_type": "stream",
     "text": [
      "[3, 4, 5, 6, 7, 'string', True, 0, 4.0, 'a', 5, 2, 8]\n",
      "[3, 4, 5, 6, 7, 'string', True, 0, 4.0, 'a', 5, 2, 8, 'city']\n"
     ]
    }
   ],
   "source": [
    "## insert 'city' to the list_\n",
    "print(list_)\n",
    "list_.append('city') # always inserts after last element/item\n",
    "print(list_)\n"
   ]
  },
  {
   "cell_type": "markdown",
   "metadata": {},
   "source": [
    "#### .insert() :               \n",
    "- used to inserts at any desired position"
   ]
  },
  {
   "cell_type": "code",
   "execution_count": 24,
   "metadata": {},
   "outputs": [
    {
     "name": "stdout",
     "output_type": "stream",
     "text": [
      "[3, 4, 5, 6, 7, 'string', True, 0, 4.0, 'a', 5, 2, 8, 'city']\n",
      "[3, 4, 5, 6, 'city', 7, 'string', True, 0, 4.0, 'a', 5, 2, 8, 'city']\n"
     ]
    }
   ],
   "source": [
    "print(list_)\n",
    "list_.insert(4, 'city') # inserts at given position\n",
    "print(list_)"
   ]
  },
  {
   "cell_type": "markdown",
   "metadata": {},
   "source": [
    "#### .extend() :               \n",
    "- used to inserts multiple elements after last element/item"
   ]
  },
  {
   "cell_type": "code",
   "execution_count": 26,
   "metadata": {},
   "outputs": [
    {
     "name": "stdout",
     "output_type": "stream",
     "text": [
      "[3, 4, 5, 6, 'city', 7, 'string', True, 0, 4.0, 'a', 5, 2, 8, 'city', 'b', 'c', 'd']\n",
      "[3, 4, 5, 6, 'city', 7, 'string', True, 0, 4.0, 'a', 5, 2, 8, 'city', 'b', 'c', 'd', 'b', 'c', 'd']\n"
     ]
    }
   ],
   "source": [
    "print(list_)\n",
    "list_.extend(['b','c','d'])\n",
    "print(list_)"
   ]
  },
  {
   "cell_type": "code",
   "execution_count": 30,
   "metadata": {},
   "outputs": [
    {
     "name": "stdout",
     "output_type": "stream",
     "text": [
      "[4, 'p', 'abhi']\n"
     ]
    }
   ],
   "source": [
    "ss=[4,'p',\"abhi\"]\n",
    "print(ss)\n"
   ]
  },
  {
   "cell_type": "code",
   "execution_count": 31,
   "metadata": {},
   "outputs": [
    {
     "name": "stdout",
     "output_type": "stream",
     "text": [
      "[4, 'p', 'abhi', 'a', 'b', 'h', 'i']\n"
     ]
    }
   ],
   "source": [
    "\n",
    "ss.extend('abhi') # with extend if one argument is pass sorted (slpitted) string will come in result\n",
    "print(ss)\n"
   ]
  },
  {
   "cell_type": "code",
   "execution_count": 32,
   "metadata": {},
   "outputs": [
    {
     "name": "stdout",
     "output_type": "stream",
     "text": [
      "[4, 'p', 'abhi', 'a', 'b', 'h', 'i', 'abhi']\n"
     ]
    }
   ],
   "source": [
    "\n",
    "ss.append('abhi')  #with append if one argument is pass collected(as it is) string will come in result\n",
    "print(ss)"
   ]
  },
  {
   "cell_type": "markdown",
   "metadata": {},
   "source": [
    "#### 6) Delete an item from the list: pop(), remove(), del\n",
    "    .pop():\n",
    "      - removes by index: only single element removes by passing its index number\n",
    "  "
   ]
  },
  {
   "cell_type": "code",
   "execution_count": 23,
   "metadata": {},
   "outputs": [
    {
     "name": "stdout",
     "output_type": "stream",
     "text": [
      "[3, 4, 5, 6, 'city', 'city', 'string', True, 0, 4.0, 'a', 5, 2, 8, 'city', 'city', 'city', 'b', 'c']\n",
      "[3, 4, 5, 6, 'city', 'city', 'string', True, 0, 4.0, 'a', 5, 2, 8, 'city', 'city', 'city', 'b']\n",
      "_______________________________________\n",
      "[3, 4, 5, 6, 'city', 'city', True, 0, 4.0, 'a', 5, 2, 8, 'city', 'city', 'city', 'b']\n"
     ]
    }
   ],
   "source": [
    "print(list_)\n",
    "list_.pop()  #by defualt it takes (-1)as indexing number and remove lat element\n",
    "print(list_)\n",
    "\n",
    "\n",
    "print('_______________________________________')\n",
    "\n",
    "\n",
    "list_.pop(6)#as 6 is given in paranthesis 6th element ie ('7'here) is get removed from list\n",
    "print(list_)"
   ]
  },
  {
   "cell_type": "markdown",
   "metadata": {},
   "source": [
    " .remove() removes by value: -only single element removes by passing its value(ie element name that you want to remove)"
   ]
  },
  {
   "cell_type": "code",
   "execution_count": 32,
   "metadata": {},
   "outputs": [
    {
     "name": "stdout",
     "output_type": "stream",
     "text": [
      "[3, 4, 5, 6, True, 0, 4.0, 'a', 5, 2, 8, 'city', 'city', 'city', 'b']\n"
     ]
    }
   ],
   "source": [
    "##remove:\n",
    "list_=[3, 4, 5, 6, 'city', True, 0, 4.0, 'a', 5, 2, 8, 'city', 'city', 'city', 'b']\n",
    "list_.remove('city')   #removes first 'city' from list\n",
    "print(list_)"
   ]
  },
  {
   "cell_type": "code",
   "execution_count": 33,
   "metadata": {},
   "outputs": [
    {
     "name": "stdout",
     "output_type": "stream",
     "text": [
      "[3, 4, 5, 6]\n"
     ]
    }
   ],
   "source": [
    "#### removing multiple instances of an element from the list(as multiple 'city' to remove it use loop)\n",
    "list_ = ['city',3,4,5,6,'city']\n",
    "for each in list_:\n",
    "    if each == 'city':\n",
    "        list_.remove(each)\n",
    "print(list_)   "
   ]
  },
  {
   "cell_type": "code",
   "execution_count": 35,
   "metadata": {},
   "outputs": [
    {
     "name": "stdout",
     "output_type": "stream",
     "text": [
      "[3, 4, 5, 6, 'city', 7, 1, 0, 4.0, 'a', 5, 2, 8, 'city', 'b', 'c', 'city']\n"
     ]
    },
    {
     "data": {
      "text/plain": [
       "3"
      ]
     },
     "execution_count": 35,
     "metadata": {},
     "output_type": "execute_result"
    }
   ],
   "source": [
    "list_ = [3, 4, 5, 6, 'city', 7, 1, 0, 4.0, 'a', 5, 2, 8, 'city', 'b', 'c','city']\n",
    "print(list_)\n",
    "list_.count('city')  #.count to count occurance"
   ]
  },
  {
   "cell_type": "markdown",
   "metadata": {},
   "source": [
    "#### Delete function: its not perticular list operation infact supports all python operations\n",
    "#### del : \n",
    "    - which delete's single or multiple elements"
   ]
  },
  {
   "cell_type": "code",
   "execution_count": 36,
   "metadata": {},
   "outputs": [
    {
     "name": "stdout",
     "output_type": "stream",
     "text": [
      "[3, 4, 5, 6, True, 0, 4.0, 'a', 5, 2, 8, 'city', 'city', 'b']\n",
      "[3, 4, 5, 6, True, 0, 4.0, 'a', 5, 2, 'b']\n"
     ]
    }
   ],
   "source": [
    "list_=[3, 4, 5, 6, True, 0, 4.0, 'a', 5, 2, 8, 'city', 'city', 'city', 'b']\n",
    "del list_[-3] #delete single element at position -3(ie'city')\n",
    "print(list_)\n",
    "del list_[-4:-1] #delete multiple element at position from -4:-1(-1 is excluded) \n",
    "print(list_)"
   ]
  },
  {
   "cell_type": "code",
   "execution_count": 37,
   "metadata": {},
   "outputs": [
    {
     "name": "stdout",
     "output_type": "stream",
     "text": [
      "True\n",
      "False\n"
     ]
    }
   ],
   "source": [
    "# to ensure elements present or not\n",
    "list_=[3, 4, 5, 6, True, 0, 4.0, 'a', 5, 2, 8, 'city', 'city', 'city', 'b']\n",
    "print('city' in list_) # \"city\" is available in the list\n",
    "print('City' in list_) # \"City\" is not available in the list"
   ]
  },
  {
   "cell_type": "code",
   "execution_count": 38,
   "metadata": {},
   "outputs": [
    {
     "name": "stdout",
     "output_type": "stream",
     "text": [
      "[1, 2, 3, 4, 5, 6, 7, 8, 9, 10, 11, 12, 13, 14, 15, 16, 17, 18, 19, 20] <class 'list'>\n"
     ]
    }
   ],
   "source": [
    "### WAP to generate a list of integers from 1 to 20 using loop.\n",
    "int_list = [] \n",
    "\n",
    "for each in range(1,21):\n",
    "#         print(int_list) # printing list object\n",
    "        int_list.append(each)\n",
    "    \n",
    "    \n",
    "print(int_list, type(int_list))     # final list "
   ]
  },
  {
   "cell_type": "code",
   "execution_count": 39,
   "metadata": {},
   "outputs": [
    {
     "name": "stdout",
     "output_type": "stream",
     "text": [
      "[1, 4, 9, 16, 25, 36, 49, 64, 81, 100, 121, 144, 169, 196, 225, 256, 289, 324, 361, 400] <class 'list'>\n"
     ]
    }
   ],
   "source": [
    "### WAP to generate a list of square of integers from 1 to 20 using loop.\n",
    "square_list = [] \n",
    "\n",
    "for each in range(1,21):\n",
    "        square_list.append(each**2)\n",
    "    \n",
    "    \n",
    "print(square_list, type(square_list))"
   ]
  },
  {
   "cell_type": "code",
   "execution_count": 40,
   "metadata": {},
   "outputs": [
    {
     "name": "stdout",
     "output_type": "stream",
     "text": [
      "['a', 'v', 'f', 'f']\n",
      "['a', 'v', 'f', 'f']\n"
     ]
    }
   ],
   "source": [
    "list1=['a','v','f','f']\n",
    "list2=list1\n",
    "print(list1)\n",
    "print(list2)"
   ]
  },
  {
   "cell_type": "markdown",
   "metadata": {},
   "source": [
    "#### copying a list object"
   ]
  },
  {
   "cell_type": "code",
   "execution_count": 41,
   "metadata": {},
   "outputs": [
    {
     "name": "stdout",
     "output_type": "stream",
     "text": [
      "['a', 'b', 'c', 'd', 'extra']\n",
      "['a', 'b', 'c', 'd', 'extra']\n"
     ]
    }
   ],
   "source": [
    "list1 = ['a','b','c','d']\n",
    "list2 = list1  # copy by reference\n",
    "list2.append('extra')\n",
    "print(list1)\n",
    "print(list2)\n",
    " \n",
    "#in this case as we directly asign list1 to list2 it copies all element but then if you add ant extra \n",
    "#then list1 also get updated automatically"
   ]
  },
  {
   "cell_type": "code",
   "execution_count": 43,
   "metadata": {},
   "outputs": [
    {
     "name": "stdout",
     "output_type": "stream",
     "text": [
      "['a', 'b', 'c', 'd']\n",
      "['a', 'b', 'c', 'd', 'extra']\n"
     ]
    }
   ],
   "source": [
    "list1 = ['a','b','c','d']\n",
    "list2 = list1.copy() # copy by value:only list2 will get updated\n",
    "list2.append('extra')\n",
    "print(list1)\n",
    "print(list2)      "
   ]
  },
  {
   "cell_type": "markdown",
   "metadata": {},
   "source": [
    "###### To print list in shopping list format we need to use for loop "
   ]
  },
  {
   "cell_type": "code",
   "execution_count": 36,
   "metadata": {},
   "outputs": [
    {
     "name": "stdout",
     "output_type": "stream",
     "text": [
      "[1, 2, 3, 4, 5, 6, 7, 8, 9, 10]\n",
      "----------------------\n",
      "1\n",
      "2\n",
      "3\n",
      "4\n",
      "5\n",
      "6\n",
      "7\n",
      "8\n",
      "9\n",
      "10\n"
     ]
    }
   ],
   "source": [
    "#EX\n",
    "ex = [ 1,2,3,4,5,6,7,8,9,10]     #reguler list\n",
    "print (ex)\n",
    "print('----------------------')\n",
    "for i in ex:                     #list in tabuler form need to use for loop\n",
    "    print(i)"
   ]
  },
  {
   "cell_type": "code",
   "execution_count": 46,
   "metadata": {},
   "outputs": [
    {
     "name": "stdout",
     "output_type": "stream",
     "text": [
      "['oil', 'sugar', 'bread', 'tomato', 'onion']\n",
      "-----------\n",
      "oil\n",
      "sugar\n",
      "bread\n",
      "tomato\n",
      "-----or------\n",
      "oil\n",
      "sugar\n",
      "bread\n",
      "tomato\n",
      "onion\n"
     ]
    }
   ],
   "source": [
    "#ex2\n",
    "ex2 = ['oil','sugar','bread','tomato','onion']\n",
    "print(ex2)\n",
    "print('-----------')\n",
    "for i in range(4):\n",
    "    print(ex2[i])   #onion will not come as range is upto 4\n",
    "print('-----or------')\n",
    "for i in ex2:\n",
    "    print(i)"
   ]
  },
  {
   "cell_type": "markdown",
   "metadata": {},
   "source": [
    "## Tuple\n",
    " - ordered data structure\n",
    " - can be indexed\n",
    " - duplication allowed\n",
    " - immutable, hetregenous data type\n",
    " - read only,Immutable(write proof python data) "
   ]
  },
  {
   "cell_type": "code",
   "execution_count": 44,
   "metadata": {},
   "outputs": [
    {
     "name": "stdout",
     "output_type": "stream",
     "text": [
      "<class 'tuple'>\n",
      "(3, 2, 4, 5, 6, 4.5, 2.0, 'string', (2, 3, 4), [4, 5, 6])\n"
     ]
    }
   ],
   "source": [
    "#tuple always comes with SIMPLE bracket and commas\n",
    "tup = (3,2,4,5,6,4.5,2.0,'string',(2,3,4),[4,5,6])\n",
    "print(type(tup))\n",
    "print(tup)"
   ]
  },
  {
   "cell_type": "code",
   "execution_count": 48,
   "metadata": {},
   "outputs": [
    {
     "name": "stdout",
     "output_type": "stream",
     "text": [
      "<class 'list'>\n",
      "<class 'tuple'>\n"
     ]
    }
   ],
   "source": [
    "l = [1,2,3] # list\n",
    "print(type(l)) #\n",
    "print(type(tuple(l)))       # can be typecast in tuple"
   ]
  },
  {
   "cell_type": "code",
   "execution_count": 49,
   "metadata": {},
   "outputs": [
    {
     "data": {
      "text/plain": [
       "(2, 3, 4)"
      ]
     },
     "execution_count": 49,
     "metadata": {},
     "output_type": "execute_result"
    }
   ],
   "source": [
    "#### Accessing elements: indexing, slicing, negative indexing, negative slicing :-ALLOWED\n",
    "tup = (3,2,4,5,6,4.5,2.0,'string',(2,3,4),[4,5,6])\n",
    "tup[-2]"
   ]
  },
  {
   "cell_type": "markdown",
   "metadata": {},
   "source": [
    "### changing an item in tuple: allowed?"
   ]
  },
  {
   "cell_type": "code",
   "execution_count": null,
   "metadata": {},
   "outputs": [],
   "source": [
    "# tup[-3] = 0   # will return error because tuple is immutable"
   ]
  },
  {
   "cell_type": "code",
   "execution_count": 50,
   "metadata": {},
   "outputs": [
    {
     "data": {
      "text/plain": [
       "[2, 4, 6, 8]"
      ]
     },
     "execution_count": 50,
     "metadata": {},
     "output_type": "execute_result"
    }
   ],
   "source": [
    "l = (1,2,3,4)   # to check operation press .tab\n",
    "                #  only index and count operation will support\n",
    "    l.   \n",
    "    "
   ]
  },
  {
   "cell_type": "code",
   "execution_count": 1,
   "metadata": {},
   "outputs": [
    {
     "data": {
      "text/plain": [
       "[2, 4, 6, 8]"
      ]
     },
     "execution_count": 1,
     "metadata": {},
     "output_type": "execute_result"
    }
   ],
   "source": [
    "###\n",
    "l = []              #here firstempty list is created and then operated as tuple\n",
    "for i in (1,2,3,4):\n",
    "    l.append(i*2)\n",
    "l    \n",
    "    "
   ]
  },
  {
   "cell_type": "code",
   "execution_count": null,
   "metadata": {},
   "outputs": [],
   "source": []
  },
  {
   "cell_type": "markdown",
   "metadata": {},
   "source": [
    "## Dictionary\n",
    " syntax:\n",
    " {'key1':'val1', 'key2':'val2', 'key3':'val3', ....., 'keyN':'valN'}\n",
    "    - unordered data structures\n",
    "    - values are mutable; keys are immutable\n",
    "    - indexing can be performed\n",
    "    - values can be any python supported data types\n",
    "    - keys must be string or immutable python type\n",
    "    - appears in (key,value) pair\n",
    "    - similer like our english dictionary having keywors(keys) and meaning(value)"
   ]
  },
  {
   "cell_type": "code",
   "execution_count": 3,
   "metadata": {},
   "outputs": [
    {
     "name": "stdout",
     "output_type": "stream",
     "text": [
      "<class 'dict'>\n",
      "{'a': 1, 'b': 2.0, 'c': 'c', 'd': True}\n"
     ]
    }
   ],
   "source": [
    "#dictionaries always comes with CURLY bracket withkeys ,values and commas\n",
    "\n",
    "d = {'a':1,'b':2.0,'c':'c','d':True}\n",
    "print(type(d))\n",
    "print(d)"
   ]
  },
  {
   "cell_type": "code",
   "execution_count": 4,
   "metadata": {},
   "outputs": [
    {
     "data": {
      "text/plain": [
       "{'Name': ['Rama', 'Peter', 'Harry', 'Jack', 'Jill'],\n",
       " 'RollNo': (1, 2, 3, 4, 5),\n",
       " 'Age': [3, 5, 6, 7, 8],\n",
       " 'Address': {'city': ['Bangalore', 'Chennai', 'Pune', 'Delhi'],\n",
       "  'Pincode': ('01', '03', '04', '05', '07')}}"
      ]
     },
     "execution_count": 4,
     "metadata": {},
     "output_type": "execute_result"
    }
   ],
   "source": [
    "students = {'Name':['Rama','Peter','Harry','Jack','Jill'],  #value can be list in dictionary\n",
    "           'RollNo':(1,2,3,4,5),                            #value can be tuple in dictionary\n",
    "           'Age':[3,5,6,7,8],\n",
    "           'Address':{'city':['Bangalore','Chennai','Pune','Delhi'],#itself can consist another dictionary\n",
    "                     'Pincode':('01','03','04','05','07')}}\n",
    "students"
   ]
  },
  {
   "cell_type": "markdown",
   "metadata": {},
   "source": [
    "#### Accessing values of the dictionary\n"
   ]
  },
  {
   "cell_type": "code",
   "execution_count": 5,
   "metadata": {},
   "outputs": [
    {
     "name": "stdout",
     "output_type": "stream",
     "text": [
      "Peter\n",
      "Jill\n",
      "05\n"
     ]
    }
   ],
   "source": [
    "print(students['Name'][1]) # Peter\n",
    "print(students['Name'][-1]) # Jill\n",
    "print(students['Address']['Pincode'][-2])"
   ]
  },
  {
   "cell_type": "code",
   "execution_count": 62,
   "metadata": {},
   "outputs": [
    {
     "name": "stdout",
     "output_type": "stream",
     "text": [
      "03\n",
      "Delhi\n"
     ]
    }
   ],
   "source": [
    "## fetch '03' value of the pincode\n",
    "\n",
    "print(students['Address']['Pincode'][1])\n",
    "\n",
    "##fetch delhi \n",
    "\n",
    "print(students['Address']['city'][-1])\n"
   ]
  },
  {
   "cell_type": "code",
   "execution_count": 66,
   "metadata": {},
   "outputs": [
    {
     "name": "stdout",
     "output_type": "stream",
     "text": [
      "{'Name': ['Rama', 'Peter', 'Harry', 'Jack', 'Jill'], 'RollNo': (1, 2, 3, 4, 5), 'Age': [3, 5, 6, 7, 8], 'Address': {'city': ['Bangalore', 'Chennai', 'Pune', 'Delhi'], 'Pincode': ('01', '03', '04', '05', '07')}}\n"
     ]
    },
    {
     "data": {
      "text/plain": [
       "{'Name': ['Rama', 'Peter', 'Harry', 'Jack', 'Jill'],\n",
       " 'RollNo': (1, 2, 3, 4, 5),\n",
       " 'Age': [3, 5, 6, 7, 8],\n",
       " 'Address': {'city': ['Bangalore', 'mumbai', 'Pune', 'Delhi'],\n",
       "  'Pincode': ('01', '03', '04', '05', '07')}}"
      ]
     },
     "execution_count": 66,
     "metadata": {},
     "output_type": "execute_result"
    }
   ],
   "source": [
    "# replace 'chennai' with \"Mumbai\"\n",
    "print(students)\n",
    "students['Address']['city'][1]='mumbai'\n",
    "students"
   ]
  },
  {
   "cell_type": "code",
   "execution_count": 67,
   "metadata": {},
   "outputs": [
    {
     "data": {
      "text/plain": [
       "{'Name': ['Rama', 'Peter', 'Harry', 'Jack', 'Jill'],\n",
       " 'RollNo': (1, 2, 3, 4, 5),\n",
       " 'Age': [3, 5, 6, 7, 8],\n",
       " 'Address': {'city': ['Bangalore', 'mumbai', 'Pune', 'Delhi'],\n",
       "  'Pincode': ('01', '03', '04', '05', '07')},\n",
       " 'scores': [100, 200, 300]}"
      ]
     },
     "execution_count": 67,
     "metadata": {},
     "output_type": "execute_result"
    }
   ],
   "source": [
    "## adding new key:val pair\n",
    "students['scores'] = [100,200,300]\n",
    "students"
   ]
  },
  {
   "cell_type": "code",
   "execution_count": 69,
   "metadata": {},
   "outputs": [
    {
     "name": "stdout",
     "output_type": "stream",
     "text": [
      "Name :: ['Rama', 'Peter', 'Harry', 'Jack', 'Jill']\n",
      "RollNo :: (1, 2, 3, 4, 5)\n",
      "Age :: [3, 5, 6, 7, 8]\n",
      "Address :: {'city': ['Bangalore', 'mumbai', 'Pune', 'Delhi'], 'Pincode': ('01', '03', '04', '05', '07')}\n",
      "scores :: [100, 200, 300]\n"
     ]
    }
   ],
   "source": [
    "### loop through dictionary\n",
    "### printing items (item=key:value pair)\n",
    "for k,v in students.items():\n",
    "    print(k,\"::\",v)"
   ]
  },
  {
   "cell_type": "code",
   "execution_count": 70,
   "metadata": {},
   "outputs": [
    {
     "name": "stdout",
     "output_type": "stream",
     "text": [
      "Name\n",
      "RollNo\n",
      "Age\n",
      "Address\n",
      "scores\n"
     ]
    }
   ],
   "source": [
    "### keys\n",
    "for k in students.keys():\n",
    "    print(k)"
   ]
  },
  {
   "cell_type": "code",
   "execution_count": 71,
   "metadata": {},
   "outputs": [
    {
     "name": "stdout",
     "output_type": "stream",
     "text": [
      "['Rama', 'Peter', 'Harry', 'Jack', 'Jill']\n",
      "(1, 2, 3, 4, 5)\n",
      "[3, 5, 6, 7, 8]\n",
      "{'city': ['Bangalore', 'mumbai', 'Pune', 'Delhi'], 'Pincode': ('01', '03', '04', '05', '07')}\n",
      "[100, 200, 300]\n"
     ]
    }
   ],
   "source": [
    "### values\n",
    "for v in students.values():\n",
    "    print(v)"
   ]
  },
  {
   "cell_type": "code",
   "execution_count": 22,
   "metadata": {},
   "outputs": [
    {
     "name": "stdout",
     "output_type": "stream",
     "text": [
      "indian\n",
      "None\n"
     ]
    },
    {
     "data": {
      "text/plain": [
       "'more'"
      ]
     },
     "execution_count": 22,
     "metadata": {},
     "output_type": "execute_result"
    }
   ],
   "source": [
    "#.get >> fetching values from dictionries\n",
    "data = {1:'abhi',2:'loves',3:'indian',4:'cricket'}\n",
    "print(data.get(3)) #using 'get' as well we can fetch desired value\n",
    "print(data.get(5)) #here 5no key is not present still it wont give you any error unlike reguler method of fetching values\n",
    "data.get(5,'more')  #we can assign value to unspeciafied key directly\n"
   ]
  },
  {
   "cell_type": "code",
   "execution_count": 24,
   "metadata": {},
   "outputs": [
    {
     "name": "stdout",
     "output_type": "stream",
     "text": [
      "{'abhi': 'professor', 'pranav': 'devloper', 'anish': 'bsnl'}\n",
      "{'abhi': 'professor', 'pranav': 'devloper', 'anish': 'bsnl', 'ram': 'HR'}\n",
      "{'abhi': 'professor', 'pranav': 'devloper', 'ram': 'HR'}\n"
     ]
    }
   ],
   "source": [
    "#creating ditioanries using lists  >> using function 'ZIP'\n",
    "\n",
    "list1 = ['abhi','pranav','anish']          #contains keys\n",
    "list2 = ['professor','devloper','bsnl']    ##contains values\n",
    "dict_ = dict(zip(list1,list2))           #zip will mix together\n",
    "                                         #dict will create mixture as dictionary\n",
    "print(dict_)\n",
    "dict_ ['ram'] = 'HR'                     #we can add key value pair in this way\n",
    "print(dict_)\n",
    "del dict_['anish']                       #we can delete in this way\n",
    "print(dict_)"
   ]
  },
  {
   "cell_type": "markdown",
   "metadata": {},
   "source": [
    "## Sets\n",
    " - unordered data structure\n",
    " - indexing can not be performed\n",
    " - duplicate members are not allowed"
   ]
  },
  {
   "cell_type": "code",
   "execution_count": 72,
   "metadata": {},
   "outputs": [
    {
     "name": "stdout",
     "output_type": "stream",
     "text": [
      "<class 'dict'>\n",
      "<class 'set'>\n",
      "<class 'set'>\n"
     ]
    }
   ],
   "source": [
    "##comes with curly bracket with values only\n",
    "print(type({})) # empty {} is always dict type\n",
    "print(type({1,2,3})) # {} with numbers seperated by comma converts to set type\n",
    "print(type(set([1,9,11]))) # set() method can be used to make list to set type"
   ]
  },
  {
   "cell_type": "code",
   "execution_count": 2,
   "metadata": {},
   "outputs": [
    {
     "name": "stdout",
     "output_type": "stream",
     "text": [
      "{1, 2, 3, 4}\n",
      "{65, 12, 45, 85, 25}\n"
     ]
    }
   ],
   "source": [
    "s={1,1,2,3,4,4}  # duplicate members can not be allowed\n",
    "print(s)\n",
    "s1={45,85,65,25,12}   # unstructured/unordered that is sequence always changes,so indexing not possible with set\n",
    "print(s1)"
   ]
  },
  {
   "cell_type": "code",
   "execution_count": 74,
   "metadata": {},
   "outputs": [
    {
     "name": "stdout",
     "output_type": "stream",
     "text": [
      "{1, 2, 3, 4, 5, 6, 7, 8, 9, 10, 11, 12, 13, 14, 15, 16, 17, 18, 19, 20}\n",
      "{15, 16, 17, 18, 19, 20, 21, 22, 23, 24, 25, 26, 27, 28, 29, 30}\n"
     ]
    }
   ],
   "source": [
    "set1 = set(range(1,21)) # set1\n",
    "set2 = set(range(15,31)) # set2\n",
    "print(set1)\n",
    "print(set2)"
   ]
  },
  {
   "cell_type": "code",
   "execution_count": 75,
   "metadata": {},
   "outputs": [
    {
     "name": "stdout",
     "output_type": "stream",
     "text": [
      "{15, 16, 17, 18, 19, 20}\n",
      "{1, 2, 3, 4, 5, 6, 7, 8, 9, 10, 11, 12, 13, 14, 15, 16, 17, 18, 19, 20}\n"
     ]
    }
   ],
   "source": [
    "print(set1.intersection(set2))\n",
    "print(set1)"
   ]
  },
  {
   "cell_type": "code",
   "execution_count": 76,
   "metadata": {},
   "outputs": [
    {
     "name": "stdout",
     "output_type": "stream",
     "text": [
      "None\n",
      "{15, 16, 17, 18, 19, 20}\n"
     ]
    }
   ],
   "source": [
    "print(set1.intersection_update(set2))\n",
    "print(set1)"
   ]
  },
  {
   "cell_type": "markdown",
   "metadata": {},
   "source": [
    "## list comprehension :\n",
    "    -works on list\n",
    "   #### syntax - list comprehension\n",
    "    - [<output expression> for <variable> in <iterable> (<optional>)]"
   ]
  },
  {
   "cell_type": "code",
   "execution_count": 78,
   "metadata": {},
   "outputs": [
    {
     "data": {
      "text/plain": [
       "[1, 2, 3, 4, 5, 6, 7, 8, 9, 10]"
      ]
     },
     "execution_count": 78,
     "metadata": {},
     "output_type": "execute_result"
    }
   ],
   "source": [
    "## WAP to generate a list of integers from 1 to 10.\n",
    "# using loop\n",
    "l_ = []\n",
    "for each in range(1,11):\n",
    "    l_.append(each)\n",
    "l_    "
   ]
  },
  {
   "cell_type": "code",
   "execution_count": 79,
   "metadata": {},
   "outputs": [
    {
     "data": {
      "text/plain": [
       "[1, 2, 3, 4, 5, 6, 7, 8, 9, 10]"
      ]
     },
     "execution_count": 79,
     "metadata": {},
     "output_type": "execute_result"
    }
   ],
   "source": [
    "# list comprehension\n",
    "l_ = [each for each in range(1,11)]\n",
    "l_"
   ]
  },
  {
   "cell_type": "code",
   "execution_count": 80,
   "metadata": {},
   "outputs": [
    {
     "name": "stdout",
     "output_type": "stream",
     "text": [
      "[1, 4, 9, 16, 25, 36, 49, 64, 81, 100]\n",
      "[1, 4, 9, 16, 25, 36, 49, 64, 81, 100]\n"
     ]
    }
   ],
   "source": [
    "## WAP to generate a list of integers square from 1 to 10.\n",
    "# using loop\n",
    "l_ = []\n",
    "for each in range(1,11):\n",
    "    l_.append(each**2)\n",
    "print(l_ )\n",
    "\n",
    "# using list comprehension\n",
    "l_ = [each**2 for each in range(1,11)]\n",
    "print(l_)"
   ]
  },
  {
   "cell_type": "code",
   "execution_count": 88,
   "metadata": {},
   "outputs": [
    {
     "name": "stdout",
     "output_type": "stream",
     "text": [
      "[2, 4, 6, 8, 10]\n"
     ]
    },
    {
     "data": {
      "text/plain": [
       "[2, 4, 6, 8, 10]"
      ]
     },
     "execution_count": 88,
     "metadata": {},
     "output_type": "execute_result"
    }
   ],
   "source": [
    "## WAP to generate a list of even integers from 1 to 10.\n",
    "# using loop\n",
    "l_ = []\n",
    "for each in range(1,11):\n",
    "    if each%2==0:\n",
    "        l_.append(each)\n",
    "print(l_ )\n",
    "\n",
    "# list comprehension\n",
    "[each for each in range(1,11) if each%2==0] #simple bracket is important(as it LIST comprehension)"
   ]
  },
  {
   "cell_type": "code",
   "execution_count": 94,
   "metadata": {},
   "outputs": [
    {
     "name": "stdout",
     "output_type": "stream",
     "text": [
      "2\n",
      "4\n",
      "6\n",
      "8\n",
      "10\n",
      "----------OR-------------\n"
     ]
    },
    {
     "data": {
      "text/plain": [
       "[2, 4, 6, 8]"
      ]
     },
     "execution_count": 94,
     "metadata": {},
     "output_type": "execute_result"
    }
   ],
   "source": [
    "## table of 2\n",
    "\n",
    "for i in range(1,6):\n",
    "    for j in range(1,4):\n",
    "        if j%2==0:\n",
    "            print(i*j)\n",
    "            \n",
    "print('----------OR-------------')\n",
    "            \n",
    "[i*j for i in range(1,5) for j in range(1,4) if j%2==0]     #list comprehension"
   ]
  },
  {
   "cell_type": "code",
   "execution_count": 95,
   "metadata": {},
   "outputs": [
    {
     "name": "stdout",
     "output_type": "stream",
     "text": [
      "(2, 1, 2)\n",
      "(4, 2, 2)\n",
      "(6, 3, 2)\n",
      "(8, 4, 2)\n"
     ]
    },
    {
     "data": {
      "text/plain": [
       "[(2, 1, 2), (4, 2, 2), (6, 3, 2), (8, 4, 2)]"
      ]
     },
     "execution_count": 95,
     "metadata": {},
     "output_type": "execute_result"
    }
   ],
   "source": [
    "## Map to list comprehension\n",
    "\n",
    "for i in range(1,5):\n",
    "    for j in range(1,4):\n",
    "        if j%2==0:\n",
    "            print((i*j,i,j))\n",
    "            \n",
    "[(i*j,i,j) for i in range(1,5) for j in range(1,4) if j%2==0] #returning multiple values(i*j,i,j)\n",
    "                                                        #not possible so make it as tuple and use"
   ]
  },
  {
   "cell_type": "code",
   "execution_count": 112,
   "metadata": {},
   "outputs": [
    {
     "name": "stdout",
     "output_type": "stream",
     "text": [
      "[1, 4, 3, 16, 5, 36, 7, 64, 9, 100]\n",
      "----------OR------------\n",
      "[1, 4, 3, 16, 5, 36, 7, 64, 9, 100]\n"
     ]
    }
   ],
   "source": [
    "### WAP to print number if it is odd else square of number\n",
    "j=[]\n",
    "for i in range(1,11):\n",
    "    if i%2==0:\n",
    "        j.append(i**2)\n",
    "    else:\n",
    "        j.append(i)\n",
    "print(j)\n",
    "\n",
    "print('----------OR------------')\n",
    "\n",
    "#using list comrehension\n",
    "print([i**2 if i%2==0 else i for i in range(1,11)])\n",
    "\n",
    "        "
   ]
  },
  {
   "cell_type": "markdown",
   "metadata": {},
   "source": [
    "## List generator :\n",
    "    -works on list\n",
    "   #### syntax - list generator\n",
    "    - (<output expression> for <variable> in <iterable> (<optional>))"
   ]
  },
  {
   "cell_type": "code",
   "execution_count": null,
   "metadata": {},
   "outputs": [],
   "source": [
    "#have to clear idea with help of youtube videos on it"
   ]
  },
  {
   "cell_type": "code",
   "execution_count": 113,
   "metadata": {},
   "outputs": [
    {
     "data": {
      "text/plain": [
       "[1, 2, 3, 4, 5, 6, 7, 8, 9, 10]"
      ]
     },
     "execution_count": 113,
     "metadata": {},
     "output_type": "execute_result"
    }
   ],
   "source": [
    "## WAP to generate a list of integers square from 1 to 10.\n",
    "list((each for each in range(1,11)))\n"
   ]
  },
  {
   "cell_type": "code",
   "execution_count": null,
   "metadata": {},
   "outputs": [],
   "source": []
  }
 ],
 "metadata": {
  "kernelspec": {
   "display_name": "Python 3",
   "language": "python",
   "name": "python3"
  },
  "language_info": {
   "codemirror_mode": {
    "name": "ipython",
    "version": 3
   },
   "file_extension": ".py",
   "mimetype": "text/x-python",
   "name": "python",
   "nbconvert_exporter": "python",
   "pygments_lexer": "ipython3",
   "version": "3.7.4"
  }
 },
 "nbformat": 4,
 "nbformat_minor": 2
}
