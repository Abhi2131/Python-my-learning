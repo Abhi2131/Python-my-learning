{
 "cells": [
  {
   "cell_type": "markdown",
   "metadata": {},
   "source": [
    "### iterable, iterator and generator"
   ]
  },
  {
   "cell_type": "markdown",
   "metadata": {},
   "source": [
    "#iterable:\n",
    "   - tuple,list,string,dictionary are iterabless, if this object can be run through for loop\n",
    "   - it has implementation \"  __ iter __   \" >> which you can find in its directory >>use dir ()"
   ]
  },
  {
   "cell_type": "code",
   "execution_count": 1,
   "metadata": {},
   "outputs": [
    {
     "name": "stdout",
     "output_type": "stream",
     "text": [
      "1\n",
      "2\n",
      "3\n",
      "4\n",
      "5\n",
      "6\n",
      "7\n",
      "8\n",
      "['__add__', '__class__', '__contains__', '__delattr__', '__delitem__', '__dir__', '__doc__', '__eq__', '__format__', '__ge__', '__getattribute__', '__getitem__', '__gt__', '__hash__', '__iadd__', '__imul__', '__init__', '__init_subclass__', '__iter__', '__le__', '__len__', '__lt__', '__mul__', '__ne__', '__new__', '__reduce__', '__reduce_ex__', '__repr__', '__reversed__', '__rmul__', '__setattr__', '__setitem__', '__sizeof__', '__str__', '__subclasshook__', 'append', 'clear', 'copy', 'count', 'extend', 'index', 'insert', 'pop', 'remove', 'reverse', 'sort']\n"
     ]
    }
   ],
   "source": [
    "a= [1,2,3,4,5,6,7,8]\n",
    "\n",
    "for i in a:\n",
    "    print(i)\n",
    "    \n",
    "print(dir(a))"
   ]
  },
  {
   "cell_type": "markdown",
   "metadata": {},
   "source": [
    "#iterator:\n",
    "   -  from iterable objet we can create iterator object of'\n",
    "       1. for loop\n",
    "       2. generator\n",
    "       \n",
    " E.g for loop: in for loop at back end actually iter object runs"
   ]
  },
  {
   "cell_type": "code",
   "execution_count": 2,
   "metadata": {},
   "outputs": [
    {
     "name": "stdout",
     "output_type": "stream",
     "text": [
      "<list_iterator object at 0x0000020AD2D28E48>\n",
      "1\n",
      "2\n",
      "3\n",
      "4\n",
      "5\n"
     ]
    },
    {
     "ename": "StopIteration",
     "evalue": "",
     "output_type": "error",
     "traceback": [
      "\u001b[1;31m---------------------------------------------------------------------------\u001b[0m",
      "\u001b[1;31mStopIteration\u001b[0m                             Traceback (most recent call last)",
      "\u001b[1;32m<ipython-input-2-036c58a57567>\u001b[0m in \u001b[0;36m<module>\u001b[1;34m\u001b[0m\n\u001b[0;32m     10\u001b[0m \u001b[0mprint\u001b[0m\u001b[1;33m(\u001b[0m\u001b[0mnext\u001b[0m\u001b[1;33m(\u001b[0m\u001b[0mmy_iter\u001b[0m\u001b[1;33m)\u001b[0m\u001b[1;33m)\u001b[0m      \u001b[1;31m# 4th extracted\u001b[0m\u001b[1;33m\u001b[0m\u001b[1;33m\u001b[0m\u001b[0m\n\u001b[0;32m     11\u001b[0m \u001b[0mprint\u001b[0m\u001b[1;33m(\u001b[0m\u001b[0mnext\u001b[0m\u001b[1;33m(\u001b[0m\u001b[0mmy_iter\u001b[0m\u001b[1;33m)\u001b[0m\u001b[1;33m)\u001b[0m       \u001b[1;31m# 5th extracted\u001b[0m\u001b[1;33m\u001b[0m\u001b[1;33m\u001b[0m\u001b[0m\n\u001b[1;32m---> 12\u001b[1;33m \u001b[0mprint\u001b[0m\u001b[1;33m(\u001b[0m\u001b[0mnext\u001b[0m\u001b[1;33m(\u001b[0m\u001b[0mmy_iter\u001b[0m\u001b[1;33m)\u001b[0m\u001b[1;33m)\u001b[0m        \u001b[1;31m# nothing more to print so will thorw error by using exception handlling\u001b[0m\u001b[1;33m\u001b[0m\u001b[1;33m\u001b[0m\u001b[0m\n\u001b[0m",
      "\u001b[1;31mStopIteration\u001b[0m: "
     ]
    }
   ],
   "source": [
    "lst =[1,2,3,4,5]\n",
    "# we can create iter object\n",
    "my_iter = iter(lst)     #iter() >>it will give you iterator object \n",
    "print((my_iter))          # it will give you iterator object\n",
    "\n",
    "#'next' function only works with iterator\n",
    "\n",
    "print(next(my_iter))    # 1st extracted\n",
    "print(next(my_iter))      # 2nd extracted\n",
    "print(next(my_iter))       # 3th extracted\n",
    "print(next(my_iter))      # 4th extracted\n",
    "print(next(my_iter))       # 5th extracted\n",
    "print(next(my_iter))        # nothing more to print so will thorw error by using exception handlling"
   ]
  },
  {
   "cell_type": "markdown",
   "metadata": {},
   "source": [
    "#generator\n",
    "used in\n",
    "   - for loop\n",
    "   - use list \n",
    "   - tuple\n",
    "   - next"
   ]
  },
  {
   "cell_type": "code",
   "execution_count": 6,
   "metadata": {},
   "outputs": [
    {
     "name": "stdout",
     "output_type": "stream",
     "text": [
      "0\n",
      "1\n",
      "2\n"
     ]
    }
   ],
   "source": [
    "a = ( i for i in range(10))    # list comprehenssion\n",
    "\n",
    "print(next(a))\n",
    "print(next(a))\n",
    "print(next(a))"
   ]
  },
  {
   "cell_type": "code",
   "execution_count": 7,
   "metadata": {},
   "outputs": [
    {
     "name": "stdout",
     "output_type": "stream",
     "text": [
      "[0, 1, 2, 3, 4, 5, 6, 7, 8, 9, 10, 11, 12, 13, 14, 15, 16, 17, 18, 19, 20, 21, 22, 23, 24, 25, 26, 27, 28, 29, 30, 31, 32, 33, 34, 35, 36, 37, 38, 39, 40, 41, 42, 43, 44, 45, 46, 47, 48, 49, 50, 51, 52, 53, 54, 55, 56, 57, 58, 59, 60, 61, 62, 63, 64, 65, 66, 67, 68, 69, 70, 71, 72, 73, 74, 75, 76, 77, 78, 79, 80, 81, 82, 83, 84, 85, 86, 87, 88, 89, 90, 91, 92, 93, 94, 95, 96, 97, 98, 99]\n",
      "<generator object <genexpr> at 0x0000020AD2DAF348>\n",
      "912\n",
      "120\n"
     ]
    }
   ],
   "source": [
    "# 1st use case \n",
    "#list vs generator          # for large file here is a reason why to go for gen \n",
    "\n",
    "lst = [ i for i in range(100)]         # list\n",
    "\n",
    "gen = (i for i in range(100))          #gen\n",
    "\n",
    "print(lst)\n",
    "print(gen)\n",
    "\n",
    "import sys\n",
    "print(sys.getsizeof(lst))           # for large no of data it consumes more memory and time to execute\n",
    "print(sys.getsizeof(gen))           # it saves your memory and time"
   ]
  },
  {
   "cell_type": "code",
   "execution_count": 8,
   "metadata": {},
   "outputs": [
    {
     "name": "stdout",
     "output_type": "stream",
     "text": [
      "5.736990999999989\n",
      "0.7658519999999953\n"
     ]
    }
   ],
   "source": [
    "#how to check time using 'time' inbuilt function\n",
    "from timeit import timeit\n",
    "\n",
    "print(timeit('[ i for i in range(100)]'))   # check time for list\n",
    "print(timeit('( i for i in range(100))'))    # check time for tuple (gen)  >>it saves much time"
   ]
  },
  {
   "cell_type": "code",
   "execution_count": null,
   "metadata": {},
   "outputs": [],
   "source": [
    "# generator\n",
    "1. genrator fucntion\n",
    "2. genrator object\n",
    "\n"
   ]
  },
  {
   "cell_type": "code",
   "execution_count": 9,
   "metadata": {},
   "outputs": [
    {
     "name": "stdout",
     "output_type": "stream",
     "text": [
      "<class 'int'>\n",
      "____OR______\n",
      "<class 'generator'>\n"
     ]
    }
   ],
   "source": [
    "#diff between return and yeild\n",
    "\n",
    "def sum(a,b):\n",
    "    return a          # (return replicates class on basis of contained value) so here class is int \n",
    "x = sum(1,2)\n",
    "print(type(x))\n",
    "\n",
    "print('____OR______')\n",
    "\n",
    "def sum(a,b):\n",
    "    yield a            # yeild will always generate class generator\n",
    "\n",
    "x = sum(1,2)\n",
    "print(type(x))\n"
   ]
  },
  {
   "cell_type": "code",
   "execution_count": 10,
   "metadata": {},
   "outputs": [
    {
     "name": "stdout",
     "output_type": "stream",
     "text": [
      "<class 'generator'>\n",
      "(1, 1, 'afsaan')\n",
      "2\n"
     ]
    }
   ],
   "source": [
    "def sum(a,b):\n",
    "    yield a , 1 , 'afsaan' # with yeild we can use yeild in no of lines which is not true with return\n",
    "    yield b\n",
    "\n",
    "x = sum(1,2)\n",
    "print(type(x))\n",
    "\n",
    "for i in x:\n",
    "    print(i)"
   ]
  },
  {
   "cell_type": "markdown",
   "metadata": {},
   "source": [
    "## module \n",
    "   - .py  whole  separate file is nothing but module\n",
    "   - eg: sys,math,any user module that we creat\n",
    "       \n",
    "       1. types of module\n",
    "            1. builtin modules - eg. math , sys , random , timeit\n",
    "            2. userdefined module - eg _your_file_.py\n",
    "            \n",
    "            \n",
    "       \n",
    "   *{where number of modules collectively known with word package eg.pandas,numpy}\n",
    "\n"
   ]
  },
  {
   "cell_type": "code",
   "execution_count": 12,
   "metadata": {},
   "outputs": [
    {
     "name": "stdout",
     "output_type": "stream",
     "text": [
      "['In', 'Out', '_', '__', '___', '__builtin__', '__builtins__', '__doc__', '__loader__', '__name__', '__package__', '__spec__', '_dh', '_i', '_i1', '_i10', '_i11', '_i12', '_i2', '_i3', '_i4', '_i5', '_i6', '_i7', '_i8', '_i9', '_ih', '_ii', '_iii', '_oh', 'a', 'exit', 'gen', 'get_ipython', 'i', 'l', 'lst', 'my_iter', 'quit', 'sum', 'sys', 'timeit', 'x']\n"
     ]
    }
   ],
   "source": [
    "# global name space: every module that comes simply after dir() is global name space \n",
    "# only those builtin functions are useful at that instance for user\n",
    "\n",
    "print(dir())"
   ]
  },
  {
   "cell_type": "code",
   "execution_count": 14,
   "metadata": {},
   "outputs": [
    {
     "name": "stdout",
     "output_type": "stream",
     "text": [
      "['In', 'Out', '_', '__', '___', '__builtin__', '__builtins__', '__doc__', '__loader__', '__name__', '__package__', '__spec__', '_dh', '_i', '_i1', '_i10', '_i11', '_i12', '_i13', '_i14', '_i2', '_i3', '_i4', '_i5', '_i6', '_i7', '_i8', '_i9', '_ih', '_ii', '_iii', '_oh', 'a', 'exit', 'gen', 'get_ipython', 'i', 'l', 'lst', 'math', 'my_iter', 'quit', 'sum', 'sys', 'timeit', 'x']\n"
     ]
    }
   ],
   "source": [
    "#after importing desired module then only it will added into global name space \n",
    "#and becomes available for user to use\n",
    "import math\n",
    "print(dir())        #as imported explicitely now math get added in directory for use"
   ]
  },
  {
   "cell_type": "code",
   "execution_count": 15,
   "metadata": {},
   "outputs": [
    {
     "data": {
      "text/plain": [
       "3.141592653589793"
      ]
     },
     "execution_count": 15,
     "metadata": {},
     "output_type": "execute_result"
    }
   ],
   "source": [
    "math.pi"
   ]
  },
  {
   "cell_type": "markdown",
   "metadata": {},
   "source": [
    "#### various ways of importing modules"
   ]
  },
  {
   "cell_type": "code",
   "execution_count": 16,
   "metadata": {},
   "outputs": [
    {
     "data": {
      "text/plain": [
       "3.1622776601683795"
      ]
     },
     "execution_count": 16,
     "metadata": {},
     "output_type": "execute_result"
    }
   ],
   "source": [
    "# first way:  only module import and desire function from it use as given below\n",
    "#here we can use as many functions of math module as we want\n",
    "\n",
    "import math\n",
    "\n",
    "math.sqrt(10)      # sqrt function from math module used here in simple way"
   ]
  },
  {
   "cell_type": "code",
   "execution_count": 18,
   "metadata": {},
   "outputs": [
    {
     "name": "stdout",
     "output_type": "stream",
     "text": [
      "['In', 'Out', '_', '_15', '_16', '__', '___', '__builtin__', '__builtins__', '__doc__', '__loader__', '__name__', '__package__', '__spec__', '_dh', '_i', '_i1', '_i10', '_i11', '_i12', '_i13', '_i14', '_i15', '_i16', '_i17', '_i18', '_i2', '_i3', '_i4', '_i5', '_i6', '_i7', '_i8', '_i9', '_ih', '_ii', '_iii', '_oh', 'a', 'exit', 'gen', 'get_ipython', 'i', 'l', 'lst', 'math', 'my_iter', 'pi', 'quit', 'sum', 'sys', 'timeit', 'x']\n"
     ]
    }
   ],
   "source": [
    "# second way : both module and its required function import at a time.\n",
    "#here only pi fun we can use as we imported that only from math\n",
    "\n",
    "from math import pi\n",
    "print(dir())                #pi get added in directory"
   ]
  },
  {
   "cell_type": "code",
   "execution_count": 23,
   "metadata": {},
   "outputs": [
    {
     "data": {
      "text/plain": [
       "10.0"
      ]
     },
     "execution_count": 23,
     "metadata": {},
     "output_type": "execute_result"
    }
   ],
   "source": [
    "# we can add multiplr subfunction aswell\n",
    "\n",
    "from math import pi , sqrt \n",
    "\n",
    "pi\n",
    "sqrt(100)"
   ]
  },
  {
   "cell_type": "code",
   "execution_count": 21,
   "metadata": {},
   "outputs": [
    {
     "name": "stdout",
     "output_type": "stream",
     "text": [
      "['In', 'Out', '_', '_15', '_16', '__', '___', '__builtin__', '__builtins__', '__doc__', '__loader__', '__name__', '__package__', '__spec__', '_dh', '_i', '_i1', '_i10', '_i11', '_i12', '_i13', '_i14', '_i15', '_i16', '_i17', '_i18', '_i19', '_i2', '_i20', '_i21', '_i3', '_i4', '_i5', '_i6', '_i7', '_i8', '_i9', '_ih', '_ii', '_iii', '_oh', 'a', 'acos', 'acosh', 'asin', 'asinh', 'atan', 'atan2', 'atanh', 'ceil', 'copysign', 'cos', 'cosh', 'degrees', 'e', 'erf', 'erfc', 'exit', 'exp', 'expm1', 'fabs', 'factorial', 'floor', 'fmod', 'frexp', 'fsum', 'gamma', 'gcd', 'gen', 'get_ipython', 'hypot', 'i', 'inf', 'isclose', 'isfinite', 'isinf', 'isnan', 'l', 'ldexp', 'lgamma', 'log', 'log10', 'log1p', 'log2', 'lst', 'math', 'modf', 'my_iter', 'nan', 'pi', 'pow', 'quit', 'radians', 'remainder', 'sin', 'sinh', 'sqrt', 'sum', 'sys', 'tan', 'tanh', 'tau', 'timeit', 'trunc', 'x']\n",
      "3.141592653589793\n",
      "5.0\n"
     ]
    }
   ],
   "source": [
    "# third way : not reccomded for practice use as it leads confucion for new user\n",
    "# agin like 1st method we only import math here and give star \n",
    "# so no need to even mention its subfunction to mention unlike 1st method \n",
    "\n",
    "from math import *\n",
    "print(dir())\n",
    "print(pi)\n",
    "print(sqrt(25))"
   ]
  },
  {
   "cell_type": "code",
   "execution_count": 22,
   "metadata": {},
   "outputs": [
    {
     "data": {
      "text/plain": [
       "['H:\\\\LEARNBAY\\\\my notes\\\\python',\n",
       " 'C:\\\\ProgramData\\\\Anaconda3\\\\python37.zip',\n",
       " 'C:\\\\ProgramData\\\\Anaconda3\\\\DLLs',\n",
       " 'C:\\\\ProgramData\\\\Anaconda3\\\\lib',\n",
       " 'C:\\\\ProgramData\\\\Anaconda3',\n",
       " '',\n",
       " 'C:\\\\ProgramData\\\\Anaconda3\\\\lib\\\\site-packages',\n",
       " 'C:\\\\ProgramData\\\\Anaconda3\\\\lib\\\\site-packages\\\\win32',\n",
       " 'C:\\\\ProgramData\\\\Anaconda3\\\\lib\\\\site-packages\\\\win32\\\\lib',\n",
       " 'C:\\\\ProgramData\\\\Anaconda3\\\\lib\\\\site-packages\\\\Pythonwin',\n",
       " 'C:\\\\ProgramData\\\\Anaconda3\\\\lib\\\\site-packages\\\\IPython\\\\extensions',\n",
       " 'C:\\\\Users\\\\Shree\\\\.ipython']"
      ]
     },
     "execution_count": 22,
     "metadata": {},
     "output_type": "execute_result"
    }
   ],
   "source": [
    "# forth way : we can alias our name for module while using >> to reduce effort of typing\n",
    "\n",
    "#alias\n",
    "\n",
    "import sys as s\n",
    "\n",
    "s.path"
   ]
  },
  {
   "cell_type": "markdown",
   "metadata": {},
   "source": [
    "### 😍File handlling:\n",
    " #### 1) File Input/Output\n",
    "    - this is simply doing operation (create/delete,open/close,read/write etc) with external files(having different file formats /extensions eg. .txt,.html etc)\n"
   ]
  },
  {
   "cell_type": "markdown",
   "metadata": {},
   "source": []
  },
  {
   "cell_type": "markdown",
   "metadata": {},
   "source": [
    "### Basicss of file handlling \n",
    "\n",
    "- file types   \n",
    "   - textfile = normal.txt\n",
    "   -  binary = images , videos\n",
    "   \n",
    "##### To read a file we have to open the file\n",
    "\n",
    "   * synatx  f = open('file_name.ext' , 'mode')\n",
    "         f.close()\n",
    "    \n",
    "   * closing is important >> this is nothing but saving a file\n",
    " \n",
    " \n",
    "   *  data read from file is in 'string' format"
   ]
  },
  {
   "cell_type": "code",
   "execution_count": 25,
   "metadata": {},
   "outputs": [],
   "source": [
    "## open() : this will create a file in current directory\n",
    "\n",
    "file = open(file = 'file.txt', mode = 'w')\n",
    "file.close()"
   ]
  },
  {
   "cell_type": "code",
   "execution_count": 26,
   "metadata": {},
   "outputs": [],
   "source": [
    "## open()\n",
    "\n",
    "file = open(file = 'file.txt', mode = 'w')\n",
    "# file\n",
    "## write to the file\n",
    "file.write(\"This is first line.\\nThis is second line.\\nThis is third line\")\n",
    "file.close()"
   ]
  },
  {
   "cell_type": "markdown",
   "metadata": {},
   "source": [
    "#### Modes of operation \n",
    " - for text file:\n",
    "   1. read mode = 'r'\n",
    "   2. write - 'w'\n",
    "   3. append - 'a'\n",
    "   4. read and write - 'r+'\n",
    "   5. write and read - 'w+'\n",
    "   6. Append and read - 'a+'\n",
    "\n",
    " - binary file\n",
    "   1. read mode = 'rb'\n",
    "   2. write - 'wb'\n",
    "   3. append - 'ab'\n",
    "   4. read and write - 'r+b'\n",
    "   5. write and read - 'w+b'\n",
    "   6. Append and read - 'a+b'\n",
    "\n"
   ]
  },
  {
   "cell_type": "markdown",
   "metadata": {},
   "source": [
    "#### method on file object   (operation that we can perform)\n",
    "   - read() - reading a all content from a file\n",
    "   - readline() - show one line at a time\n",
    "   - write() - writing a content to a file\n",
    "   - writeline() - write one line at a time\n",
    "   - tell() - tell will give you the cursor postion\n",
    "   - seek() - is used to chnage postion of the cursor"
   ]
  },
  {
   "cell_type": "markdown",
   "metadata": {},
   "source": [
    "#### 1. Read mode:  'r'\n",
    "- If the file exists then it will open the file in read mode and places the cursor at the begining of the file\n",
    "- if the file does not exists then it will give FileNotFoundError\n",
    "- You are allowed only to read from the file but not allowed to write into the file"
   ]
  },
  {
   "cell_type": "code",
   "execution_count": 27,
   "metadata": {},
   "outputs": [
    {
     "name": "stdout",
     "output_type": "stream",
     "text": [
      " Volume in drive H is study\n",
      " Volume Serial Number is BA01-0E95\n",
      "\n",
      " Directory of H:\\LEARNBAY\\my notes\\python\n",
      "\n",
      "23-05-2021  20:41    <DIR>          .\n",
      "23-05-2021  20:41    <DIR>          ..\n",
      "23-05-2021  19:45    <DIR>          .ipynb_checkpoints\n",
      "23-05-2021  09:14    <DIR>          __pycache__\n",
      "23-05-2021  20:41            19,040 File Ip-Op, exception Handling, Regex,  .ipynb\n",
      "23-05-2021  20:40                61 file.txt\n",
      "22-05-2021  19:53           920,464 Git and Github.ipynb\n",
      "04-05-2020  09:33             5,453 IMP Extra Concept.ipynb\n",
      "22-05-2021  17:20            75,133 My python notebook part 1.ipynb\n",
      "23-05-2021  00:54            34,325 My python notebook part 2.ipynb\n",
      "23-05-2021  09:26                73 my_mod.py\n",
      "04-03-2020  22:29            21,797 numpy series my notebook.ipynb\n",
      "20-03-2020  08:13            29,782 oops _python programming.ipynb\n",
      "12-03-2020  07:48           142,044 Pandas my notebook.ipynb\n",
      "22-05-2021  17:27    <DIR>          Untitled Folder\n",
      "23-05-2021  09:05                 0 untitled.txt\n",
      "22-05-2021  23:46             1,288 Untitled1.ipynb\n",
      "09-05-2021  18:50             7,473 Untitled2.ipynb\n",
      "29-06-2020  07:14                54 what i learnt in python.txt\n",
      "              14 File(s)      1,256,987 bytes\n",
      "               5 Dir(s)  202,976,841,728 bytes free\n"
     ]
    }
   ],
   "source": [
    "ls"
   ]
  },
  {
   "cell_type": "code",
   "execution_count": 28,
   "metadata": {},
   "outputs": [
    {
     "data": {
      "text/plain": [
       "'a =10\\nb = 20\\n\\ndef sum (a,b):\\n print(a,b)\\n return a+b\\n   \\nprint(sum(a,b))\\n'"
      ]
     },
     "execution_count": 28,
     "metadata": {},
     "output_type": "execute_result"
    }
   ],
   "source": [
    "f = open('my_mod.py' , 'r')\n",
    "f.read()"
   ]
  },
  {
   "cell_type": "code",
   "execution_count": 32,
   "metadata": {},
   "outputs": [
    {
     "name": "stdout",
     "output_type": "stream",
     "text": [
      "0\n",
      "20\n",
      "\n",
      "def sum (a,b):\n",
      " print(a,b)\n",
      " return a+b\n",
      "   \n",
      "print(sum(a,b))\n",
      "\n"
     ]
    }
   ],
   "source": [
    "f = open('my_mod.py' , 'r')\n",
    "print(f.tell())   # shoow cursor current point\n",
    "f.read()          # will read\n",
    "f.tell()          #show cursor point\n",
    "f.seek(10)        #change cursor to 10th position\n",
    "print(f.read()) \n",
    "# f.write('afsaan')    # will trhow error as writing not possible"
   ]
  },
  {
   "cell_type": "markdown",
   "metadata": {},
   "source": [
    "#### 2. Write mode : 'w'\n",
    "- If the file exists then it will open the file in write mode and deletes the content of the file\n",
    "- if the file does not exists then it will create a file with given name and extension\n",
    "- You are allowed only to write into the file but not allowed to read from the file\n",
    "- it will rewrite everythingonto a previous data without preserving previous data\n",
    "    - f.write: write one line\n",
    "    - f.writelines: write multiple lines of string separated with comma"
   ]
  },
  {
   "cell_type": "code",
   "execution_count": 33,
   "metadata": {},
   "outputs": [],
   "source": [
    "# if file is not der\n",
    "\n",
    "f = open('my_mod_1.py' , 'w')"
   ]
  },
  {
   "cell_type": "code",
   "execution_count": 34,
   "metadata": {},
   "outputs": [
    {
     "name": "stdout",
     "output_type": "stream",
     "text": [
      "6\n",
      "100\n"
     ]
    }
   ],
   "source": [
    "# if file is der\n",
    "f = open('my_mod.py' , 'w')\n",
    "f.write('afsaan')\n",
    "print(f.tell())\n",
    "print(f.seek(100))\n",
    "f.write('khan')\n",
    "f.close()"
   ]
  },
  {
   "cell_type": "markdown",
   "metadata": {},
   "source": [
    "#### 3. Append mode : 'a'\n",
    "- If the file exists then it will open the file in write mode and places the cursor at the end of the file\n",
    "- if the file does not exists then it will create a file with given name and extension\n",
    "- it will write new data at end with preserving previous data \n",
    "- You are allowed only to write into the file but not allowed to read from the file\n",
    "- append will always write the the content at the end of the file so seek() will not here\n",
    "    "
   ]
  },
  {
   "cell_type": "code",
   "execution_count": 35,
   "metadata": {},
   "outputs": [],
   "source": [
    "# if file is not der\n",
    "\n",
    "f = open('my_mod_2.py' , 'a')"
   ]
  },
  {
   "cell_type": "code",
   "execution_count": 36,
   "metadata": {},
   "outputs": [
    {
     "name": "stdout",
     "output_type": "stream",
     "text": [
      "104\n",
      "110\n",
      "100\n"
     ]
    }
   ],
   "source": [
    "# if file is der\n",
    "f = open('my_mod.py' , 'a')\n",
    "print(f.tell())\n",
    "f.write('afsaan')\n",
    "print(f.tell())\n",
    "print(f.seek(100))\n",
    "f.write('khan')\n",
    "f.close()"
   ]
  },
  {
   "cell_type": "code",
   "execution_count": 37,
   "metadata": {},
   "outputs": [
    {
     "name": "stdout",
     "output_type": "stream",
     "text": [
      "114\n"
     ]
    }
   ],
   "source": [
    "f = open('my_mod.py' , 'a')\n",
    "print(f.tell())\n",
    "f.write('afsaan')\n",
    "f.seek(0)\n",
    "f.write('xyz')\n",
    "f.close()"
   ]
  },
  {
   "cell_type": "markdown",
   "metadata": {},
   "source": [
    "## 4. Write and read mode:  'w+'\n",
    "- If the file exists then it will open the file in write mode and deletes the content of teh file\n",
    "- if the file does not exists then it will create a file with given name and extension\n",
    "- You are allowed to write into the file and also allowed to read from the file"
   ]
  },
  {
   "cell_type": "code",
   "execution_count": 40,
   "metadata": {},
   "outputs": [],
   "source": [
    "# if file is not der\n",
    "\n",
    "f = open('my_mod_3.py' , 'w+')"
   ]
  },
  {
   "cell_type": "code",
   "execution_count": 41,
   "metadata": {},
   "outputs": [
    {
     "name": "stdout",
     "output_type": "stream",
     "text": [
      "0\n",
      "xyzaan\n"
     ]
    }
   ],
   "source": [
    "f = open('my_mod_3.py' , 'w+')\n",
    "print(f.tell())\n",
    "f.write('afsaan')\n",
    "f.seek(0)\n",
    "f.write('xyz')\n",
    "f.seek(0)\n",
    "print(f.read())\n",
    "f.close()"
   ]
  },
  {
   "cell_type": "markdown",
   "metadata": {},
   "source": [
    "## 5. read and write - 'r+'\n",
    "- If the file exists then it will open the file in read mode and places the cursor at the begining of the file\n",
    "- if the file does not exists then it will give FileNotFoundError\n",
    "- You are allowed to write into the file and also allowed to read from the file"
   ]
  },
  {
   "cell_type": "code",
   "execution_count": 43,
   "metadata": {},
   "outputs": [
    {
     "name": "stdout",
     "output_type": "stream",
     "text": [
      "0\n",
      "xyzaan\n"
     ]
    }
   ],
   "source": [
    "f = open('my_mod_3.py' , 'r+')\n",
    "print(f.tell())\n",
    "f.write('afsaan')\n",
    "f.seek(0)\n",
    "f.write('xyz')\n",
    "f.seek(0)\n",
    "print(f.read())\n",
    "f.close()"
   ]
  },
  {
   "cell_type": "markdown",
   "metadata": {},
   "source": [
    "# 6. Append and read mode - 'a+'\n",
    "\n",
    "- If the file exists then it will open the file in append mode and places the cursor at the end of the file\n",
    "- if the file does not exists then it will create a file with given name and extension\n",
    "- You are allowed to write into the file and also allowed to read from the file\n",
    "- append will always write the the content at the end of the file so seek() will not here"
   ]
  },
  {
   "cell_type": "code",
   "execution_count": 45,
   "metadata": {},
   "outputs": [
    {
     "name": "stdout",
     "output_type": "stream",
     "text": [
      "6\n",
      "xyzaanafsaanxyz\n",
      "\n"
     ]
    }
   ],
   "source": [
    "f = open('my_mod_3.py' , 'a+')\n",
    "print(f.tell())\n",
    "f.write('afsaan')\n",
    "f.seek(0)\n",
    "f.write('xyz')\n",
    "f.seek(0)\n",
    "print(f.read())\n",
    "f.close()\n",
    "\n",
    "print()"
   ]
  },
  {
   "cell_type": "code",
   "execution_count": 46,
   "metadata": {},
   "outputs": [],
   "source": [
    "# example 1\n",
    "\n",
    "content = \"\"\"Lorem Ipsum is simply dummy text of the printing and typesetting industry. \n",
    "Lorem Ipsum has been the industry standard dummy text ever since the 1500s, when an unknown printer took a galley of type and scrambled it to make a type specimen book. \n",
    "It has survived not only five centuries, but also the leap into electronic typesetting, remaining essentially unchanged. \n",
    "It was popularised in the 1960s with the release of Letraset sheets containing Lorem Ipsum passages, and more recently with desktop publishing software like Aldus PageMaker including versions of Lorem Ipsum.\"\"\"\n",
    "\n",
    "\n",
    "# question 1 - Count the number of chararcters , words and lines from a file\n",
    "# question 2 - Insert the line at line number 6, do not replace it\n",
    "# question 3 - take one image file , copy the content of image.png to new.jpg"
   ]
  },
  {
   "cell_type": "code",
   "execution_count": 47,
   "metadata": {},
   "outputs": [
    {
     "ename": "FileNotFoundError",
     "evalue": "[Errno 2] No such file or directory: 'image.png'",
     "output_type": "error",
     "traceback": [
      "\u001b[1;31m---------------------------------------------------------------------------\u001b[0m",
      "\u001b[1;31mFileNotFoundError\u001b[0m                         Traceback (most recent call last)",
      "\u001b[1;32m<ipython-input-47-5d9e9ef16a2c>\u001b[0m in \u001b[0;36m<module>\u001b[1;34m\u001b[0m\n\u001b[0;32m      5\u001b[0m \u001b[1;33m\u001b[0m\u001b[0m\n\u001b[0;32m      6\u001b[0m \u001b[1;31m# sol 3\u001b[0m\u001b[1;33m\u001b[0m\u001b[1;33m\u001b[0m\u001b[1;33m\u001b[0m\u001b[0m\n\u001b[1;32m----> 7\u001b[1;33m \u001b[1;32mwith\u001b[0m \u001b[0mopen\u001b[0m\u001b[1;33m(\u001b[0m\u001b[1;34m'image.png'\u001b[0m \u001b[1;33m,\u001b[0m \u001b[1;34m'rb'\u001b[0m\u001b[1;33m)\u001b[0m \u001b[1;32mas\u001b[0m \u001b[0mf1\u001b[0m\u001b[1;33m:\u001b[0m\u001b[1;33m\u001b[0m\u001b[1;33m\u001b[0m\u001b[0m\n\u001b[0m\u001b[0;32m      8\u001b[0m     \u001b[1;32mwith\u001b[0m \u001b[0mopen\u001b[0m\u001b[1;33m(\u001b[0m\u001b[1;34m'new.jpg'\u001b[0m \u001b[1;33m,\u001b[0m \u001b[1;34m'wb'\u001b[0m \u001b[1;33m)\u001b[0m \u001b[1;32mas\u001b[0m \u001b[0mf2\u001b[0m\u001b[1;33m:\u001b[0m\u001b[1;33m\u001b[0m\u001b[1;33m\u001b[0m\u001b[0m\n\u001b[0;32m      9\u001b[0m         \u001b[0mf2\u001b[0m\u001b[1;33m.\u001b[0m\u001b[0mwrite\u001b[0m\u001b[1;33m(\u001b[0m\u001b[0mf1\u001b[0m\u001b[1;33m.\u001b[0m\u001b[0mread\u001b[0m\u001b[1;33m(\u001b[0m\u001b[1;33m)\u001b[0m\u001b[1;33m)\u001b[0m\u001b[1;33m\u001b[0m\u001b[1;33m\u001b[0m\u001b[0m\n",
      "\u001b[1;31mFileNotFoundError\u001b[0m: [Errno 2] No such file or directory: 'image.png'"
     ]
    }
   ],
   "source": [
    "# solution 1\n",
    "\n",
    "\n",
    "#solution 2\n",
    "\n",
    "# sol 3\n",
    "with open('image.png' , 'rb') as f1:\n",
    "    with open('new.jpg' , 'wb' ) as f2:\n",
    "        f2.write(f1.read())"
   ]
  },
  {
   "cell_type": "code",
   "execution_count": 55,
   "metadata": {},
   "outputs": [],
   "source": [
    "# one not to close( file all time you can prefer following mwthod:)\n",
    "with open (file = 'my_mod.py',mode = 'w')as file:\n",
    "    file.write('this is a last line')"
   ]
  },
  {
   "cell_type": "code",
   "execution_count": null,
   "metadata": {},
   "outputs": [],
   "source": []
  }
 ],
 "metadata": {
  "kernelspec": {
   "display_name": "Python 3",
   "language": "python",
   "name": "python3"
  },
  "language_info": {
   "codemirror_mode": {
    "name": "ipython",
    "version": 3
   },
   "file_extension": ".py",
   "mimetype": "text/x-python",
   "name": "python",
   "nbconvert_exporter": "python",
   "pygments_lexer": "ipython3",
   "version": "3.7.4"
  }
 },
 "nbformat": 4,
 "nbformat_minor": 2
}
