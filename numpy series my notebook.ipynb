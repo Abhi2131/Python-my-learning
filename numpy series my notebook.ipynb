{
 "cells": [
  {
   "cell_type": "markdown",
   "metadata": {},
   "source": [
    "## * Numpy\n",
    "   - numpy = numerical python \n",
    "   - majorally deals with array,however computation of stand alone values also done fastely\n",
    "   - used to computation & processing of array (1D,2D .....nD array)   \n",
    "   -  its a general purpose array processing package\n",
    "   - it provides high dimension array packages and associated tools "
   ]
  },
  {
   "cell_type": "code",
   "execution_count": 1,
   "metadata": {},
   "outputs": [],
   "source": [
    "# installation command  >> must use before to install numpy in system\n",
    "# ! pip install numpy"
   ]
  },
  {
   "cell_type": "code",
   "execution_count": 3,
   "metadata": {},
   "outputs": [],
   "source": [
    "import numpy as np     # must first import to make use of it"
   ]
  },
  {
   "cell_type": "code",
   "execution_count": 5,
   "metadata": {},
   "outputs": [
    {
     "data": {
      "text/plain": [
       "622"
      ]
     },
     "execution_count": 5,
     "metadata": {},
     "output_type": "execute_result"
    }
   ],
   "source": [
    "# np. + tab button >> will give you different functions that supported with numpy\n",
    "#(their are total 622 functions available)\n",
    "len(dir(np))\n",
    "                # list out objects in numpy package"
   ]
  },
  {
   "cell_type": "markdown",
   "metadata": {},
   "source": [
    "## * array\n",
    " - homogenous data type\n",
    " - fixed dimension\n",
    " - type of the object - ndarray"
   ]
  },
  {
   "cell_type": "markdown",
   "metadata": {},
   "source": [
    "#### 1)  create an array:\n",
    "\n",
    "   * np.array() = create array\n",
    "   * _arr_name_.shape  = gives shape  = gives no of rows & columns\n",
    "   * _arr_name_.size  = gives total no of elements  = gives total no of elements present\n",
    "   * _arr_name_.ndim  = gives dimenssions  = gives dimenssions of array\n",
    "   \n",
    "  "
   ]
  },
  {
   "cell_type": "code",
   "execution_count": 6,
   "metadata": {},
   "outputs": [
    {
     "name": "stdout",
     "output_type": "stream",
     "text": [
      "<class 'list'> [1, 2, 3, 4, 5]\n"
     ]
    }
   ],
   "source": [
    "# create with help of list or tuple>>np.array(_list/tuple name_)\n",
    "lst = [1,2,3,4,5]\n",
    "print(type(lst) , lst)"
   ]
  },
  {
   "cell_type": "code",
   "execution_count": 8,
   "metadata": {},
   "outputs": [
    {
     "name": "stdout",
     "output_type": "stream",
     "text": [
      "<class 'numpy.ndarray'> [1 2 3 4 5]\n"
     ]
    },
    {
     "data": {
      "text/plain": [
       "1"
      ]
     },
     "execution_count": 8,
     "metadata": {},
     "output_type": "execute_result"
    }
   ],
   "source": [
    "arr = np.array(lst)\n",
    "\n",
    "# checking\n",
    "print(type(arr) , arr)\n",
    "\n",
    "# to check the shape of an array  >>i.e check no of rows and columns\n",
    "arr.shape\n",
    "\n",
    "# check the dimmenssions >> i.e 1D/2D/3D etc\n",
    "arr.ndim\n",
    "\n",
    "#trick to check dimmenssion by seeing it\n",
    "# 1D array == [___values__] >> i.e only one total sqr bracket before come any value\n",
    "# 2D array == [[___values__]] >> i.e total 2 sqr bracket before come any value\n",
    "# 3D array == [[[___values__]]] >> i.e total 3 sqr bracket before come any value\n",
    "# nD array == [[....[___values__]...]] >> i.e total 'n' sqr bracket before come any value"
   ]
  },
  {
   "cell_type": "code",
   "execution_count": 6,
   "metadata": {},
   "outputs": [
    {
     "name": "stdout",
     "output_type": "stream",
     "text": [
      "<class 'numpy.ndarray'>\n"
     ]
    },
    {
     "data": {
      "text/plain": [
       "array([ 1,  2,  3,  4,  5,  6,  7,  8,  9, 10])"
      ]
     },
     "execution_count": 6,
     "metadata": {},
     "output_type": "execute_result"
    }
   ],
   "source": [
    "arr = np.array(range(1,11))  # all elements are 'int' only (homogeneous data) ie array\n",
    "print(type(arr))\n",
    "arr\n",
    "\n",
    "#class of array is always \"numpy .ndarray\""
   ]
  },
  {
   "cell_type": "code",
   "execution_count": 9,
   "metadata": {},
   "outputs": [
    {
     "name": "stdout",
     "output_type": "stream",
     "text": [
      "<class 'str'>\n",
      "<class 'int'>\n",
      "<class 'float'>\n",
      "<class 'list'>\n"
     ]
    }
   ],
   "source": [
    "#  check Data type contradiction between list and array  \n",
    "    # in list case\n",
    "l = [2,1.4,'string',4,6]\n",
    "print(type(l[-3]))\n",
    "print(type(l[-1]))\n",
    "print(type(l[1]))\n",
    "print(type(l))"
   ]
  },
  {
   "cell_type": "code",
   "execution_count": 10,
   "metadata": {},
   "outputs": [
    {
     "name": "stdout",
     "output_type": "stream",
     "text": [
      "<class 'numpy.ndarray'>\n"
     ]
    },
    {
     "data": {
      "text/plain": [
       "array(['2', '1.4', 'string', '4', '6'], dtype='<U32')"
      ]
     },
     "execution_count": 10,
     "metadata": {},
     "output_type": "execute_result"
    }
   ],
   "source": [
    "# however in array case\n",
    "# as array must be homogeneous but if your enter non homogeneous data types together,\n",
    "# #(ie int, float ,string )python internally typecasted it to a higher level data type.\n",
    "# (levels of datatype:\n",
    "#        highest: string =  (called as 'object' in series case)\n",
    "#                 float \n",
    "#        lower  : int)\n",
    "\n",
    "arr = np.array([2,1.4,'string',4,6])\n",
    "print(type(arr))\n",
    "arr"
   ]
  },
  {
   "cell_type": "code",
   "execution_count": 12,
   "metadata": {},
   "outputs": [
    {
     "name": "stdout",
     "output_type": "stream",
     "text": [
      "<class 'numpy.str_'>\n",
      "<class 'numpy.str_'>\n",
      "<class 'numpy.str_'>\n"
     ]
    }
   ],
   "source": [
    "# to check individually\n",
    "print(type(arr[-3]))\n",
    "print(type(arr[-1]))\n",
    "print(type(arr[1]))  #everything is typecasted in higher datatype ie 'string here'\n"
   ]
  },
  {
   "cell_type": "code",
   "execution_count": 13,
   "metadata": {},
   "outputs": [
    {
     "name": "stdout",
     "output_type": "stream",
     "text": [
      "<class 'numpy.ndarray'>\n",
      "[2.  1.4 4.  4.  6. ]\n",
      "<class 'numpy.float64'>\n",
      "<class 'numpy.float64'>\n"
     ]
    }
   ],
   "source": [
    "# float example\n",
    "arr = np.array([2,1.4,4,4,6])\n",
    "print(type(arr))\n",
    "print(arr)\n",
    "\n",
    "print(type(arr[-3]))\n",
    "print(type(arr[-1]))"
   ]
  },
  {
   "cell_type": "markdown",
   "metadata": {},
   "source": [
    "#### difference between list and array\n",
    "#### differance array vs list\n",
    "\n",
    "   * arr = [ 2  4  6  8 10 12 14 16 18 20 ]\n",
    "   * lst =  [2,4,6,8,10,12,14,16,18,20,]\n",
    "   * list is one type of array, but numpy is written in C code  and which is fast and optimised which comes with so many functionality if we compare vs list\n",
    "   \n",
    "\n",
    "\n",
    "####        List                                         |                               Array\n",
    "    - support non homogeneous data                   |    - support non homogeneous data \n",
    "    - broadcasting is not supported                  |    - broadcasting is supported\n",
    "     (direct operation with elements in list)  \n",
    "    - take more memory                               |    -  take less memory\n",
    "    - comparatively poor in arithmatic operations    |    - since rich in functionality widely use for arithmatic oprations\n",
    "    - no need to declare in advance                  |    - need to declare in advance(importing library)"
   ]
  },
  {
   "cell_type": "code",
   "execution_count": 17,
   "metadata": {},
   "outputs": [
    {
     "name": "stdout",
     "output_type": "stream",
     "text": [
      "[1, 2, 3, 4, 5, 6, 7, 8, 9, 10, 11, 12, 13, 14, 15, 16, 17, 18, 19, 20]\n",
      "[1, 2, 3, 4, 5, 6, 7, 8, 9, 10, 11, 12, 13, 14, 15, 16, 17, 18, 19, 20, 1, 2, 3, 4, 5, 6, 7, 8, 9, 10, 11, 12, 13, 14, 15, 16, 17, 18, 19, 20]\n"
     ]
    }
   ],
   "source": [
    "### with List\n",
    "\n",
    "list_ = list(range(1,21))\n",
    "print(list_)\n",
    "print (list_* 2 )  # *(astric sign) with list appends duplicate list"
   ]
  },
  {
   "cell_type": "code",
   "execution_count": 19,
   "metadata": {},
   "outputs": [
    {
     "name": "stdout",
     "output_type": "stream",
     "text": [
      "[ 2  4  6  8 10 12 14 16 18 20 22 24 26 28 30 32 34 36 38 40]\n"
     ]
    }
   ],
   "source": [
    "###  '*' with Array\n",
    "arr = np.array(list_)\n",
    "print(arr*2)  # *(astric sign) with array gives element-wise multiplication"
   ]
  },
  {
   "cell_type": "code",
   "execution_count": 20,
   "metadata": {},
   "outputs": [
    {
     "name": "stdout",
     "output_type": "stream",
     "text": [
      "[ 1  2  3  4  5  6  7  8  9 10 11 12 13 14 15 16 17 18 19 20]\n",
      "[ 1  2  3  4  5  6  7  8  9 10 11 12 13 14 15 16 17 18 19 20]\n",
      "[ 2  4  6  8 10 12 14 16 18 20 22 24 26 28 30 32 34 36 38 40]\n"
     ]
    }
   ],
   "source": [
    "###  '+' with Array\n",
    "arr1 = np.array(list_)\n",
    "arr2 = np.array(list_)\n",
    "print(arr1)\n",
    "print(arr2)\n",
    "print(arr1+arr2) # +(plus sign) with array gives element-wise addition"
   ]
  },
  {
   "cell_type": "markdown",
   "metadata": {},
   "source": [
    "## * various ways of creating array object\n",
    "\n",
    "    - 'np.+tab' >> will give you different functions that supported with numpy(their are Ttotal 622 functions available)"
   ]
  },
  {
   "cell_type": "markdown",
   "metadata": {},
   "source": [
    "##### 1)  np.empty gives defined(1d or 2d or 3d) array filled with junk(garbage) values"
   ]
  },
  {
   "cell_type": "code",
   "execution_count": 10,
   "metadata": {},
   "outputs": [
    {
     "name": "stdout",
     "output_type": "stream",
     "text": [
      "<class 'numpy.ndarray'>\n",
      "[7.65109550e-312 7.65126905e-312 7.65123826e-312 7.65126897e-312\n",
      " 7.65126904e-312]\n"
     ]
    }
   ],
   "source": [
    "#1)  .empty gives defined(1d or 2d or 3d) array filled with junk(garbage) values\n",
    "\n",
    "#1d array:shape = (columns)\n",
    "arr = np.empty(shape = 5)\n",
    "print(type(arr))\n",
    "print(arr)"
   ]
  },
  {
   "cell_type": "code",
   "execution_count": 23,
   "metadata": {},
   "outputs": [
    {
     "name": "stdout",
     "output_type": "stream",
     "text": [
      "<class 'numpy.ndarray'>\n"
     ]
    },
    {
     "data": {
      "text/plain": [
       "array([[0.0000000e+000, 0.0000000e+000, 0.0000000e+000, 0.0000000e+000],\n",
       "       [0.0000000e+000, 6.8378685e-321, 8.4560344e-307, 1.2461147e-306]])"
      ]
     },
     "execution_count": 23,
     "metadata": {},
     "output_type": "execute_result"
    }
   ],
   "source": [
    "#2d array:shape = (rows, columns)\n",
    "\n",
    "arr = np.empty(shape = (2,4))\n",
    "print(type(arr))\n",
    "arr"
   ]
  },
  {
   "cell_type": "code",
   "execution_count": 25,
   "metadata": {},
   "outputs": [
    {
     "name": "stdout",
     "output_type": "stream",
     "text": [
      "<class 'numpy.ndarray'>\n"
     ]
    },
    {
     "data": {
      "text/plain": [
       "array([[[6.23042070e-307, 4.67296746e-307, 1.69121096e-306,\n",
       "         1.60219442e-306],\n",
       "        [2.22523004e-307, 1.78020440e-306, 3.11525958e-307,\n",
       "         3.33774999e-307],\n",
       "        [6.23050898e-307, 1.06811422e-306, 1.78018403e-306,\n",
       "         1.60220393e-306]],\n",
       "\n",
       "       [[1.02359984e-306, 6.23056330e-307, 4.45057212e-308,\n",
       "         1.20160847e-306],\n",
       "        [1.33506604e-306, 2.22522597e-306, 8.90104239e-307,\n",
       "         1.60219035e-306],\n",
       "        [6.23059726e-307, 1.20161458e-306, 1.33512512e-306,\n",
       "         1.23971654e+224]]])"
      ]
     },
     "execution_count": 25,
     "metadata": {},
     "output_type": "execute_result"
    }
   ],
   "source": [
    "#3d array:shape = (rows, columns,depth/set in each row)\n",
    "arr = np.empty(shape = (2,3,4))\n",
    "print(type(arr))\n",
    "arr"
   ]
  },
  {
   "cell_type": "markdown",
   "metadata": {},
   "source": [
    "##### 2)  np.zeroes gives defined(1d or 2d or 3d) array filled all with value zero('0')"
   ]
  },
  {
   "cell_type": "code",
   "execution_count": 18,
   "metadata": {},
   "outputs": [
    {
     "name": "stdout",
     "output_type": "stream",
     "text": [
      "<class 'numpy.ndarray'>\n",
      "[0. 0. 0. 0. 0.]\n",
      "\n",
      "\n",
      "<class 'numpy.ndarray'>\n",
      "[[0. 0. 0.]\n",
      " [0. 0. 0.]]\n",
      "\n",
      "\n",
      "<class 'numpy.ndarray'>\n",
      "[[0. 0. 0.]\n",
      " [0. 0. 0.]]\n"
     ]
    }
   ],
   "source": [
    "##1d\n",
    "arr = np.zeros(shape = 5)\n",
    "print(type(arr))\n",
    "print(arr)\n",
    "\n",
    "print('\\n')\n",
    "\n",
    "##2d\n",
    "arr = np.zeros(shape = (2,3))\n",
    "print(type(arr))\n",
    "print(arr)\n",
    "\n",
    "#3rd:zero_likes : take previous shape and size only element values replaces with zeros\n",
    "print('\\n')\n",
    "arr1 = np.zeros_like(arr)\n",
    "print(type(arr1))\n",
    "print(arr1)"
   ]
  },
  {
   "cell_type": "markdown",
   "metadata": {},
   "source": [
    "##### 3)  np.ones gives defined(1d or 2d or 3d) array filled all with value one('1')"
   ]
  },
  {
   "cell_type": "code",
   "execution_count": 32,
   "metadata": {},
   "outputs": [
    {
     "name": "stdout",
     "output_type": "stream",
     "text": [
      "<class 'numpy.ndarray'>\n",
      "[1. 1. 1. 1. 1.]\n",
      "\n",
      "\n",
      "\n",
      "<class 'numpy.ndarray'>\n",
      "[[1 1 1]\n",
      " [1 1 1]]\n"
     ]
    }
   ],
   "source": [
    "##1d\n",
    "arr = np.ones(shape = 5)\n",
    "print(type(arr))\n",
    "print(arr)\n",
    "\n",
    "print('\\n\\n')\n",
    "\n",
    "##2d\n",
    "arr = np.ones(shape = (2,3),dtype = 'int') #we can define datatype on our desire\n",
    "print(type(arr))\n",
    "print(arr)"
   ]
  },
  {
   "cell_type": "markdown",
   "metadata": {},
   "source": [
    "##### 3A)  np.eye gives identity matrix .ie matrix which has all its diagonal elemet =1,all other elemnt =0"
   ]
  },
  {
   "cell_type": "code",
   "execution_count": 21,
   "metadata": {},
   "outputs": [
    {
     "name": "stdout",
     "output_type": "stream",
     "text": [
      "<class 'numpy.ndarray'>\n",
      "[[1. 0. 0. 0. 0.]\n",
      " [0. 1. 0. 0. 0.]\n",
      " [0. 0. 1. 0. 0.]\n",
      " [0. 0. 0. 1. 0.]\n",
      " [0. 0. 0. 0. 1.]]\n"
     ]
    }
   ],
   "source": [
    "arr = np.eye(5)\n",
    "print(type(arr))\n",
    "print(arr)"
   ]
  },
  {
   "cell_type": "code",
   "execution_count": 22,
   "metadata": {},
   "outputs": [
    {
     "name": "stdout",
     "output_type": "stream",
     "text": [
      "<class 'numpy.ndarray'>\n",
      "[[1. 0. 0.]\n",
      " [0. 1. 0.]\n",
      " [0. 0. 1.]]\n"
     ]
    }
   ],
   "source": [
    "arr = np.eye(3)\n",
    "print(type(arr))\n",
    "print(arr)"
   ]
  },
  {
   "cell_type": "markdown",
   "metadata": {},
   "source": [
    "##### 4) np .linespace (start= ,stop= ,num=  ): \n",
    "   - creates arrray from value given in 'start' (its a min value of array) to the value given in'stop' (its a max value of array),with 'num' is total equal intervals in between\n",
    "   - where total numbers of values in array is given in num"
   ]
  },
  {
   "cell_type": "code",
   "execution_count": 33,
   "metadata": {},
   "outputs": [
    {
     "name": "stdout",
     "output_type": "stream",
     "text": [
      "<class 'numpy.ndarray'>\n"
     ]
    },
    {
     "data": {
      "text/plain": [
       "array([ 1.        ,  1.47368421,  1.94736842,  2.42105263,  2.89473684,\n",
       "        3.36842105,  3.84210526,  4.31578947,  4.78947368,  5.26315789,\n",
       "        5.73684211,  6.21052632,  6.68421053,  7.15789474,  7.63157895,\n",
       "        8.10526316,  8.57894737,  9.05263158,  9.52631579, 10.        ])"
      ]
     },
     "execution_count": 33,
     "metadata": {},
     "output_type": "execute_result"
    }
   ],
   "source": [
    "##\n",
    "arr = np.linspace(start = 1, stop = 10, num = 20)\n",
    "print(type(arr))\n",
    "arr"
   ]
  },
  {
   "cell_type": "markdown",
   "metadata": {},
   "source": [
    "##### 5)  .arange (start= ,stop= ,step=  ): \n",
    "    -same as line space just insted of num here its step which provides stepsize i.e (differance between two consecutive values)"
   ]
  },
  {
   "cell_type": "code",
   "execution_count": 13,
   "metadata": {},
   "outputs": [
    {
     "name": "stdout",
     "output_type": "stream",
     "text": [
      "<class 'numpy.ndarray'>\n"
     ]
    },
    {
     "data": {
      "text/plain": [
       "array([1, 3, 5, 7, 9])"
      ]
     },
     "execution_count": 13,
     "metadata": {},
     "output_type": "execute_result"
    }
   ],
   "source": [
    "##\n",
    "arr = np.arange(start = 1, stop = 10, step = 2)\n",
    "print(type(arr))\n",
    "arr"
   ]
  },
  {
   "cell_type": "code",
   "execution_count": 12,
   "metadata": {},
   "outputs": [
    {
     "data": {
      "text/plain": [
       "array([ 0,  1,  2,  3,  4,  5,  6,  7,  8,  9, 10, 11, 12, 13, 14, 15, 16,\n",
       "       17, 18, 19])"
      ]
     },
     "execution_count": 12,
     "metadata": {},
     "output_type": "execute_result"
    }
   ],
   "source": [
    "# we can creat it without stepsize too\n",
    "arr = np.arange(20)\n",
    "arr"
   ]
  },
  {
   "cell_type": "markdown",
   "metadata": {},
   "source": [
    "##### 6)  np.random.---- ( ):  \n",
    "    -random. has again numerous function like(random.randint,random.rand,random.randin etc etc)\n",
    "    which fills array with random values however creation of array is basically depends upoun last .function "
   ]
  },
  {
   "cell_type": "code",
   "execution_count": 36,
   "metadata": {},
   "outputs": [
    {
     "name": "stdout",
     "output_type": "stream",
     "text": [
      "<class 'numpy.ndarray'>\n"
     ]
    },
    {
     "data": {
      "text/plain": [
       "array([3, 2, 2, 2, 4, 2, 3, 3, 4, 2, 2, 4, 4, 2, 2, 4, 3, 4, 2, 4])"
      ]
     },
     "execution_count": 36,
     "metadata": {},
     "output_type": "execute_result"
    }
   ],
   "source": [
    "##np.random.randint = (low =lowest value ,high = highest value,size = total )no of elements in an array\n",
    "#sequence i array is always random\n",
    "\n",
    "#for 1d\n",
    "arr = np.random.randint(low = 2, high = 5, size = 20)\n",
    "print(type(arr))\n",
    "arr"
   ]
  },
  {
   "cell_type": "code",
   "execution_count": 37,
   "metadata": {},
   "outputs": [
    {
     "name": "stdout",
     "output_type": "stream",
     "text": [
      "<class 'numpy.ndarray'>\n"
     ]
    },
    {
     "data": {
      "text/plain": [
       "array([[4, 2],\n",
       "       [3, 3],\n",
       "       [3, 4],\n",
       "       [4, 2],\n",
       "       [2, 3]])"
      ]
     },
     "execution_count": 37,
     "metadata": {},
     "output_type": "execute_result"
    }
   ],
   "source": [
    "# for 2d\n",
    "arr = np.random.randint(low = 2, high = 5, size = (5,2))\n",
    "print(type(arr))\n",
    "arr"
   ]
  },
  {
   "cell_type": "code",
   "execution_count": 38,
   "metadata": {},
   "outputs": [
    {
     "name": "stdout",
     "output_type": "stream",
     "text": [
      "<class 'numpy.ndarray'>\n"
     ]
    },
    {
     "data": {
      "text/plain": [
       "array([[0.43896046, 0.09916084],\n",
       "       [0.2283106 , 0.25263189],\n",
       "       [0.37198766, 0.85182167],\n",
       "       [0.28372527, 0.57789216],\n",
       "       [0.58791824, 0.9577879 ]])"
      ]
     },
     "execution_count": 38,
     "metadata": {},
     "output_type": "execute_result"
    }
   ],
   "source": [
    "##np.random.rand = ( )Create an array of the given shape and populate it with\n",
    "#random samples from a uniform distribution\n",
    "\n",
    "arr = np.random.rand(5,2)\n",
    "print(type(arr))\n",
    "arr"
   ]
  },
  {
   "cell_type": "code",
   "execution_count": 39,
   "metadata": {},
   "outputs": [
    {
     "name": "stdout",
     "output_type": "stream",
     "text": [
      "<class 'numpy.ndarray'>\n"
     ]
    },
    {
     "data": {
      "text/plain": [
       "array([[ 0.46748364,  0.91296269],\n",
       "       [-1.26766346,  0.2518621 ],\n",
       "       [ 0.00825996, -0.36144063],\n",
       "       [ 1.34433144,  1.00304739],\n",
       "       [-0.82456858,  0.7553219 ]])"
      ]
     },
     "execution_count": 39,
     "metadata": {},
     "output_type": "execute_result"
    }
   ],
   "source": [
    "arr = np.random.randn(5,2)\n",
    "print(type(arr))\n",
    "arr"
   ]
  },
  {
   "cell_type": "markdown",
   "metadata": {},
   "source": [
    "## Acceessing array elements"
   ]
  },
  {
   "cell_type": "code",
   "execution_count": 40,
   "metadata": {},
   "outputs": [
    {
     "name": "stdout",
     "output_type": "stream",
     "text": [
      "<class 'numpy.ndarray'>\n",
      "10\n"
     ]
    },
    {
     "data": {
      "text/plain": [
       "array([ 1,  3,  5,  7,  9, 11, 13, 15, 17, 19])"
      ]
     },
     "execution_count": 40,
     "metadata": {},
     "output_type": "execute_result"
    }
   ],
   "source": [
    "##\n",
    "arr = np.arange(start = 1, stop = 20, step = 2)\n",
    "print(type(arr))\n",
    "print(len(arr))\n",
    "arr"
   ]
  },
  {
   "cell_type": "code",
   "execution_count": 41,
   "metadata": {},
   "outputs": [
    {
     "data": {
      "text/plain": [
       "array([[ 1,  3,  5,  7,  9],\n",
       "       [11, 13, 15, 17, 19]])"
      ]
     },
     "execution_count": 41,
     "metadata": {},
     "output_type": "execute_result"
    }
   ],
   "source": [
    "arr1 = arr.reshape(2,5)      #reshape is used to change the dimensions\n",
    "arr1"
   ]
  },
  {
   "cell_type": "code",
   "execution_count": 42,
   "metadata": {},
   "outputs": [
    {
     "name": "stdout",
     "output_type": "stream",
     "text": [
      "5\n",
      "5\n"
     ]
    }
   ],
   "source": [
    "## fetch element '5'\n",
    "print(arr1[0,2])\n",
    "print(arr1[0][2])"
   ]
  },
  {
   "cell_type": "code",
   "execution_count": 43,
   "metadata": {},
   "outputs": [
    {
     "name": "stdout",
     "output_type": "stream",
     "text": [
      "17\n",
      "17\n"
     ]
    }
   ],
   "source": [
    "## fetch element '17'\n",
    "print(arr1[1,3])\n",
    "print(arr1[1][3])"
   ]
  },
  {
   "cell_type": "code",
   "execution_count": 48,
   "metadata": {},
   "outputs": [
    {
     "name": "stdout",
     "output_type": "stream",
     "text": [
      "[[ 1  3  5  7  9]\n",
      " [11 13 15 17 19]]\n",
      "\n",
      "\n",
      "[[ 2  4  6  8 10]\n",
      " [12 14 16 18 20]]\n",
      "\n",
      "\n",
      "[[ 2  6 10 14 18]\n",
      " [22 26 30 34 38]]\n"
     ]
    }
   ],
   "source": [
    "   #unlike list in array it directly performs arithmatic opearation with element\n",
    "### \n",
    "print(arr1)\n",
    "print('\\n')\n",
    "print(arr1 + 1)\n",
    "print('\\n')\n",
    "print(arr1 * 2) # element-wise multiplication"
   ]
  },
  {
   "cell_type": "code",
   "execution_count": 49,
   "metadata": {},
   "outputs": [
    {
     "name": "stdout",
     "output_type": "stream",
     "text": [
      "[[ 1  3]\n",
      " [ 5  7]\n",
      " [ 9 11]\n",
      " [13 15]\n",
      " [17 19]]\n",
      "\n",
      "\n",
      "[[ 3  5  7  9 11]\n",
      " [13 15 17 19 21]]\n"
     ]
    },
    {
     "data": {
      "text/plain": [
       "array([[ 42,  50,  58,  66,  74],\n",
       "       [106, 130, 154, 178, 202],\n",
       "       [170, 210, 250, 290, 330],\n",
       "       [234, 290, 346, 402, 458],\n",
       "       [298, 370, 442, 514, 586]])"
      ]
     },
     "execution_count": 49,
     "metadata": {},
     "output_type": "execute_result"
    }
   ],
   "source": [
    "# dot product >>matrix multiplication\n",
    "# matrix multiplication\n",
    "\n",
    "arr1 = np.arange(start = 1, stop = 20, step = 2).reshape(5,2)\n",
    "arr2 = np.arange(start = 3, stop = 23, step = 2).reshape(2,5)\n",
    "print(arr1)\n",
    "print('\\n')\n",
    "print(arr2)\n",
    "\n",
    "arr1.dot(arr2) # matrix multiplication"
   ]
  },
  {
   "cell_type": "code",
   "execution_count": 50,
   "metadata": {},
   "outputs": [
    {
     "name": "stdout",
     "output_type": "stream",
     "text": [
      "[ 1  3  5  7  9 11 13 15 17 19]\n",
      "\n",
      "\n",
      "[ 3  5  7  9 11 13 15 17 19 21]\n"
     ]
    },
    {
     "data": {
      "text/plain": [
       "array([  3,  15,  35,  63,  99, 143, 195, 255, 323, 399])"
      ]
     },
     "execution_count": 50,
     "metadata": {},
     "output_type": "execute_result"
    }
   ],
   "source": [
    "# element-wise multiplication\n",
    "\n",
    "arr1 = np.arange(start = 1, stop = 20, step = 2)\n",
    "arr2 = np.arange(start = 3, stop = 23, step = 2)\n",
    "print(arr1)\n",
    "print('\\n')\n",
    "print(arr2)\n",
    "arr1*arr2 # element-wise multiplication"
   ]
  },
  {
   "cell_type": "code",
   "execution_count": 23,
   "metadata": {},
   "outputs": [
    {
     "name": "stdout",
     "output_type": "stream",
     "text": [
      " Volume in drive H is study\n",
      " Volume Serial Number is BA01-0E95\n",
      "\n",
      " Directory of H:\\LEARNBAY\\my notes\\python\n",
      "\n",
      "27-05-2021  19:46    <DIR>          .\n",
      "27-05-2021  19:46    <DIR>          ..\n",
      "27-05-2021  18:52    <DIR>          .ipynb_checkpoints\n",
      "23-05-2021  09:14    <DIR>          __pycache__\n",
      "26-05-2021  19:13           157,369 assignment.ipynb\n",
      "27-05-2021  19:26           271,112 class_17_Numpy by afsaan.ipynb\n",
      "23-05-2021  20:40                61 file.txt\n",
      "22-05-2021  19:53           920,464 Git and Github.ipynb\n",
      "04-05-2020  09:33             5,453 IMP Extra Concept.ipynb\n",
      "23-05-2021  23:13            30,722 iterables & file handlling part 3.ipynb\n",
      "22-05-2021  17:20            75,133 My python notebook part 1.ipynb\n",
      "23-05-2021  00:54            34,325 My python notebook part 2.ipynb\n",
      "23-05-2021  22:58                19 my_mod.py\n",
      "23-05-2021  22:45                 0 my_mod_1.py\n",
      "23-05-2021  22:46                 0 my_mod_2.py\n",
      "23-05-2021  22:49                15 my_mod_3.py\n",
      "27-05-2021  19:46            26,009 numpy series my notebook.ipynb\n",
      "20-03-2020  08:13            29,782 oops _python programming.ipynb\n",
      "12-03-2020  07:48           142,044 Pandas my notebook.ipynb\n",
      "27-05-2021  18:51           133,001 Regular expression by afsaan.ipynb\n",
      "22-05-2021  17:27    <DIR>          Untitled Folder\n",
      "23-05-2021  09:05                 0 untitled.txt\n",
      "25-05-2021  21:18            34,932 Untitled2.ipynb\n",
      "29-06-2020  07:14                54 what i learnt in python.txt\n",
      "              19 File(s)      1,860,495 bytes\n",
      "               5 Dir(s)  202,975,825,920 bytes free\n"
     ]
    }
   ],
   "source": [
    "ls\n"
   ]
  },
  {
   "cell_type": "code",
   "execution_count": null,
   "metadata": {},
   "outputs": [],
   "source": []
  }
 ],
 "metadata": {
  "kernelspec": {
   "display_name": "Python 3",
   "language": "python",
   "name": "python3"
  },
  "language_info": {
   "codemirror_mode": {
    "name": "ipython",
    "version": 3
   },
   "file_extension": ".py",
   "mimetype": "text/x-python",
   "name": "python",
   "nbconvert_exporter": "python",
   "pygments_lexer": "ipython3",
   "version": "3.7.4"
  }
 },
 "nbformat": 4,
 "nbformat_minor": 2
}
